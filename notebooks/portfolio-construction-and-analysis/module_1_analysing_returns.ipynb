{
 "cells": [
  {
   "cell_type": "markdown",
   "id": "b666cfd9",
   "metadata": {},
   "source": [
    "## Introduction to Portfolio Construction and Analysis with Python"
   ]
  },
  {
   "cell_type": "markdown",
   "id": "2a570c98",
   "metadata": {},
   "source": [
    "## Module 1. Analysing returns"
   ]
  },
  {
   "cell_type": "code",
   "execution_count": 2,
   "id": "e15531f9",
   "metadata": {},
   "outputs": [],
   "source": [
    "import numpy as np\n",
    "import pandas as pd\n",
    "import matplotlib.pyplot as plt\n",
    "import edhec_risk_kit as erk\n",
    "from scipy.optimize import minimize"
   ]
  },
  {
   "cell_type": "markdown",
   "id": "d2846f01",
   "metadata": {},
   "source": [
    "**Learning Objectives**\n",
    "\n",
    "* Understand fundamentals of returns, multiple sets of returns using vectors\n",
    "* Understand risk adjusted measures\n",
    "* Understand non-Gaussian distribution, skewness and kurtosis\n",
    "* Understand downside risk measures\n",
    "* Estimate value at risk\n",
    "* Implement the concepts using the lab sessions"
   ]
  },
  {
   "cell_type": "markdown",
   "id": "48f2241c",
   "metadata": {},
   "source": [
    "#### **Section 1 - Fundamentals of risk and returns**"
   ]
  },
  {
   "cell_type": "markdown",
   "id": "5a72ccd8",
   "metadata": {},
   "source": [
    "##### Fundamentals of returns"
   ]
  },
  {
   "cell_type": "markdown",
   "id": "f297eb17",
   "metadata": {},
   "source": [
    "Average returns are not a good way to look at how an asset behaves"
   ]
  },
  {
   "cell_type": "markdown",
   "id": "b2ef5415",
   "metadata": {},
   "source": [
    "The return from time $t$ to time ${t+1}$ is given by:\n",
    "\n",
    "$$ R_{t,t+1} = \\frac{P_{t+1}-P_{t}}{P_{t}} $$\n",
    "\n",
    "or alternately\n",
    "\n",
    "$$ R_{t,t+1} = \\frac{P_{t+1}}{P_{t}} - 1 $$\n",
    "\n",
    "When dealing with stocks, if we want to compute the total return, we should add the money that we got as a dividend:\n",
    "\n",
    "$$ R_{t,t+1} = \\frac{P_{t+1}+D_{t,t+1}-P_{t}}{P_{t}} $$"
   ]
  },
  {
   "cell_type": "markdown",
   "id": "c72a1c2b",
   "metadata": {},
   "source": [
    "**Multi period returns** "
   ]
  },
  {
   "cell_type": "markdown",
   "id": "3a144e18",
   "metadata": {},
   "source": [
    "<c>![image.png](attachment:image.png)</c>"
   ]
  },
  {
   "cell_type": "markdown",
   "id": "71c1da70",
   "metadata": {},
   "source": [
    "$$R_{t, t+2} = (1+R_{t,t+1})(1+R_{t+1,t+2}) - 1 $$"
   ]
  },
  {
   "cell_type": "markdown",
   "id": "9e219e9e",
   "metadata": {},
   "source": [
    "**Example:** you buy a stock that returns 10% on the first day then returs -3% on the second day."
   ]
  },
  {
   "cell_type": "markdown",
   "id": "87d47241",
   "metadata": {},
   "source": [
    "Compounded return will just be: \n",
    "\n",
    "$$ (1+0.10)(1-0.03)-1 $$ \n",
    "\n"
   ]
  }
 ],
 "metadata": {
  "kernelspec": {
   "display_name": ".venv (3.13.5)",
   "language": "python",
   "name": "python3"
  },
  "language_info": {
   "codemirror_mode": {
    "name": "ipython",
    "version": 3
   },
   "file_extension": ".py",
   "mimetype": "text/x-python",
   "name": "python",
   "nbconvert_exporter": "python",
   "pygments_lexer": "ipython3",
   "version": "3.13.5"
  }
 },
 "nbformat": 4,
 "nbformat_minor": 5
}
