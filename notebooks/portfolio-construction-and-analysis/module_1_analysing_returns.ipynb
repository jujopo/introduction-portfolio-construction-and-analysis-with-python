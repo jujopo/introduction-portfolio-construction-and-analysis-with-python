{
 "cells": [
  {
   "cell_type": "markdown",
   "id": "b666cfd9",
   "metadata": {},
   "source": [
    "## Introduction to Portfolio Construction and Analysis with Python"
   ]
  },
  {
   "cell_type": "markdown",
   "id": "2a570c98",
   "metadata": {},
   "source": [
    "## Module 1. Analysing returns"
   ]
  },
  {
   "cell_type": "code",
   "execution_count": 2,
   "id": "e15531f9",
   "metadata": {},
   "outputs": [],
   "source": [
    "import numpy as np\n",
    "import pandas as pd\n",
    "import matplotlib.pyplot as plt\n",
    "from portfolio_pkg import edhec_risk_kit as erk\n",
    "from scipy.optimize import minimize"
   ]
  },
  {
   "cell_type": "markdown",
   "id": "d2846f01",
   "metadata": {},
   "source": [
    "**Learning Objectives**\n",
    "\n",
    "* Understand fundamentals of returns, multiple sets of returns using vectors\n",
    "* Understand risk adjusted measures\n",
    "* Understand non-Gaussian distribution, skewness and kurtosis\n",
    "* Understand downside risk measures\n",
    "* Estimate value at risk\n",
    "* Implement the concepts using the lab sessions"
   ]
  },
  {
   "cell_type": "markdown",
   "id": "48f2241c",
   "metadata": {},
   "source": [
    "#### **Section 1 - Fundamentals of risk and returns**"
   ]
  },
  {
   "cell_type": "markdown",
   "id": "5a72ccd8",
   "metadata": {},
   "source": [
    "##### Fundamentals of returns"
   ]
  },
  {
   "cell_type": "markdown",
   "id": "f297eb17",
   "metadata": {},
   "source": [
    "Average returns are not a good way to look at how an asset behaves, this is because volatility of the asset is not incorporated into this notion of average returns, i.e., we can have a more volatile asset and a less volatile asset whose average monthly returns are the same"
   ]
  },
  {
   "cell_type": "markdown",
   "id": "b052dfe9",
   "metadata": {},
   "source": [
    "<c>![Two asset returns](images/two_asset_returns.png)</c>"
   ]
  },
  {
   "cell_type": "markdown",
   "id": "9ddf65d7",
   "metadata": {},
   "source": [
    "Just because the average monthly returns are the same doesn't mean we are going to end up with the same amount of money."
   ]
  },
  {
   "cell_type": "markdown",
   "id": "b2ef5415",
   "metadata": {},
   "source": [
    "The return from time $t$ to time ${t+1}$ is given by:\n",
    "\n",
    "$$ R_{t,t+1} = \\frac{P_{t+1}-P_{t}}{P_{t}} $$\n",
    "\n",
    "or alternately\n",
    "\n",
    "$$ R_{t,t+1} = \\frac{P_{t+1}}{P_{t}} - 1 $$\n",
    "\n",
    "When dealing with stocks, if we want to compute the total return, we should add the money that we got as a dividend:\n",
    "\n",
    "$$ R_{t,t+1} = \\frac{P_{t+1}+D_{t,t+1}-P_{t}}{P_{t}} $$\n",
    "\n",
    "If we don't include the dividends in the returns calculation we call that price returns and including the dividends, we call those total returns. **We always want to use total returns for performance analysis**"
   ]
  },
  {
   "cell_type": "markdown",
   "id": "c72a1c2b",
   "metadata": {},
   "source": [
    "**Multi period returns** "
   ]
  },
  {
   "cell_type": "markdown",
   "id": "3a144e18",
   "metadata": {},
   "source": [
    "<c>![Multiperiod returns](images/multiperiod_returns.png)</c>"
   ]
  },
  {
   "cell_type": "markdown",
   "id": "71c1da70",
   "metadata": {},
   "source": [
    "$$R_{t, t+2} = (1+R_{t,t+1})(1+R_{t+1,t+2}) - 1 $$"
   ]
  },
  {
   "cell_type": "markdown",
   "id": "9e219e9e",
   "metadata": {},
   "source": [
    "**Example:** you buy a stock that returns 10% on the first day then returs -3% on the second day."
   ]
  },
  {
   "cell_type": "markdown",
   "id": "87d47241",
   "metadata": {},
   "source": [
    "Compounded return will just be: \n",
    "\n",
    "$$ \n",
    "(1+0.10)(1-0.03)-1 \n",
    "$$ \n",
    "\n"
   ]
  },
  {
   "cell_type": "code",
   "execution_count": 3,
   "id": "7ccb09fb",
   "metadata": {},
   "outputs": [
    {
     "data": {
      "text/plain": [
       "0.067"
      ]
     },
     "execution_count": 3,
     "metadata": {},
     "output_type": "execute_result"
    }
   ],
   "source": [
    "round((1+0.10)*(1-0.03)-1, 3)"
   ]
  },
  {
   "cell_type": "markdown",
   "id": "9ded818b",
   "metadata": {},
   "source": [
    "**Anualizing returns:** This is a useful process to compare returns across different periods of time i.e., comparing a monthly return with quarterly or a daily return. The anualized return is nothing more than the return you'll get if the return that you're looking at had continued for a year. \n",
    "\n",
    "**Example:** the return over the month is 1%. What's the annualized return? \n",
    "\n",
    "$$ \n",
    "\\cancel{12 * 1\\% = 12\\%}\n",
    "$$ \n",
    "\n",
    "$$ \n",
    "(1+0.01)^{12} - 1 = 12.68\\% \n",
    "$$ "
   ]
  },
  {
   "cell_type": "code",
   "execution_count": 5,
   "id": "a73536f0",
   "metadata": {},
   "outputs": [
    {
     "data": {
      "text/plain": [
       "0.040604010000000024"
      ]
     },
     "execution_count": 5,
     "metadata": {},
     "output_type": "execute_result"
    }
   ],
   "source": [
    "# A stock gains 1% over a quarter (i.e. a 3 month period). What's the annualized return?\n",
    "\n",
    "(1+0.01)**4 - 1 # The return is (1+0.01)^4-1, since there are 4 quarters in a year"
   ]
  },
  {
   "cell_type": "markdown",
   "id": "b80b67b4",
   "metadata": {},
   "source": [
    "##### Lab Session - Basics of Returns"
   ]
  },
  {
   "cell_type": "markdown",
   "id": "3b5d0ae4",
   "metadata": {},
   "source": [
    "In this lab we'll work the very basics of Returns - computing returns, and compounding a sequence of returns.\n",
    "\n",
    "Let's start with a set of prices for a stock \"A\", in a python list:"
   ]
  },
  {
   "cell_type": "code",
   "execution_count": 6,
   "id": "c3fd52b4",
   "metadata": {},
   "outputs": [],
   "source": [
    "prices_a = [8.70, 8.91, 8.71]"
   ]
  },
  {
   "cell_type": "code",
   "execution_count": 7,
   "id": "5d42c3e2",
   "metadata": {},
   "outputs": [
    {
     "data": {
      "text/plain": [
       "[8.91, 8.71]"
      ]
     },
     "execution_count": 7,
     "metadata": {},
     "output_type": "execute_result"
    }
   ],
   "source": [
    "prices_a[1:]"
   ]
  },
  {
   "cell_type": "code",
   "execution_count": 8,
   "id": "c93dbc2c",
   "metadata": {},
   "outputs": [
    {
     "data": {
      "text/plain": [
       "[8.7, 8.91]"
      ]
     },
     "execution_count": 8,
     "metadata": {},
     "output_type": "execute_result"
    }
   ],
   "source": [
    "prices_a[:-1]"
   ]
  },
  {
   "cell_type": "markdown",
   "id": "aa834e0b",
   "metadata": {},
   "source": [
    "However, since Python lists do not operate as vectors, that will not work, generating an error about \"/\" not working for lists."
   ]
  },
  {
   "cell_type": "code",
   "execution_count": 9,
   "id": "6c42a10b",
   "metadata": {},
   "outputs": [
    {
     "ename": "TypeError",
     "evalue": "unsupported operand type(s) for /: 'list' and 'list'",
     "output_type": "error",
     "traceback": [
      "\u001b[31m---------------------------------------------------------------------------\u001b[39m",
      "\u001b[31mTypeError\u001b[39m                                 Traceback (most recent call last)",
      "\u001b[36mCell\u001b[39m\u001b[36m \u001b[39m\u001b[32mIn[9]\u001b[39m\u001b[32m, line 1\u001b[39m\n\u001b[32m----> \u001b[39m\u001b[32m1\u001b[39m \u001b[43mprices_a\u001b[49m\u001b[43m[\u001b[49m\u001b[32;43m1\u001b[39;49m\u001b[43m:\u001b[49m\u001b[43m]\u001b[49m\u001b[43m/\u001b[49m\u001b[43mprices_a\u001b[49m\u001b[43m[\u001b[49m\u001b[43m:\u001b[49m\u001b[43m-\u001b[49m\u001b[32;43m1\u001b[39;49m\u001b[43m]\u001b[49m - \u001b[32m1\u001b[39m\n",
      "\u001b[31mTypeError\u001b[39m: unsupported operand type(s) for /: 'list' and 'list'"
     ]
    }
   ],
   "source": [
    "prices_a[1:]/prices_a[:-1] - 1"
   ]
  },
  {
   "cell_type": "code",
   "execution_count": 10,
   "id": "ceb48271",
   "metadata": {},
   "outputs": [],
   "source": [
    "prices_a = np.array(prices_a)"
   ]
  },
  {
   "cell_type": "code",
   "execution_count": 11,
   "id": "a127601f",
   "metadata": {},
   "outputs": [
    {
     "data": {
      "text/plain": [
       "array([ 0.02413793, -0.02244669])"
      ]
     },
     "execution_count": 11,
     "metadata": {},
     "output_type": "execute_result"
    }
   ],
   "source": [
    "prices_a[1:]/prices_a[:-1] - 1"
   ]
  },
  {
   "cell_type": "markdown",
   "id": "266f9cd4",
   "metadata": {},
   "source": [
    "Now, let's add a few more days of prices and introduce a second stock. Let's call these two stocks \"Blue\" and \"Orange\". Instead of using raw numpy arrays, we are going to use the far more powerful Pandas DataFrame."
   ]
  },
  {
   "cell_type": "code",
   "execution_count": 12,
   "id": "6a0bae59",
   "metadata": {},
   "outputs": [],
   "source": [
    "prices = pd.DataFrame({\n",
    "    'Blue': [8.70, 8.91, 8.71, 8.43, 8.73],\n",
    "    'Orange': [10.66, 11.08, 10.71, 11.59, 12.11]\n",
    "})"
   ]
  },
  {
   "cell_type": "code",
   "execution_count": 13,
   "id": "ac0eae16",
   "metadata": {},
   "outputs": [
    {
     "data": {
      "text/html": [
       "<div>\n",
       "<style scoped>\n",
       "    .dataframe tbody tr th:only-of-type {\n",
       "        vertical-align: middle;\n",
       "    }\n",
       "\n",
       "    .dataframe tbody tr th {\n",
       "        vertical-align: top;\n",
       "    }\n",
       "\n",
       "    .dataframe thead th {\n",
       "        text-align: right;\n",
       "    }\n",
       "</style>\n",
       "<table border=\"1\" class=\"dataframe\">\n",
       "  <thead>\n",
       "    <tr style=\"text-align: right;\">\n",
       "      <th></th>\n",
       "      <th>Blue</th>\n",
       "      <th>Orange</th>\n",
       "    </tr>\n",
       "  </thead>\n",
       "  <tbody>\n",
       "    <tr>\n",
       "      <th>0</th>\n",
       "      <td>8.70</td>\n",
       "      <td>10.66</td>\n",
       "    </tr>\n",
       "    <tr>\n",
       "      <th>1</th>\n",
       "      <td>8.91</td>\n",
       "      <td>11.08</td>\n",
       "    </tr>\n",
       "    <tr>\n",
       "      <th>2</th>\n",
       "      <td>8.71</td>\n",
       "      <td>10.71</td>\n",
       "    </tr>\n",
       "    <tr>\n",
       "      <th>3</th>\n",
       "      <td>8.43</td>\n",
       "      <td>11.59</td>\n",
       "    </tr>\n",
       "    <tr>\n",
       "      <th>4</th>\n",
       "      <td>8.73</td>\n",
       "      <td>12.11</td>\n",
       "    </tr>\n",
       "  </tbody>\n",
       "</table>\n",
       "</div>"
      ],
      "text/plain": [
       "   Blue  Orange\n",
       "0  8.70   10.66\n",
       "1  8.91   11.08\n",
       "2  8.71   10.71\n",
       "3  8.43   11.59\n",
       "4  8.73   12.11"
      ]
     },
     "execution_count": 13,
     "metadata": {},
     "output_type": "execute_result"
    }
   ],
   "source": [
    "prices"
   ]
  },
  {
   "cell_type": "code",
   "execution_count": 14,
   "id": "a5eef7f4",
   "metadata": {},
   "outputs": [
    {
     "data": {
      "text/html": [
       "<div>\n",
       "<style scoped>\n",
       "    .dataframe tbody tr th:only-of-type {\n",
       "        vertical-align: middle;\n",
       "    }\n",
       "\n",
       "    .dataframe tbody tr th {\n",
       "        vertical-align: top;\n",
       "    }\n",
       "\n",
       "    .dataframe thead th {\n",
       "        text-align: right;\n",
       "    }\n",
       "</style>\n",
       "<table border=\"1\" class=\"dataframe\">\n",
       "  <thead>\n",
       "    <tr style=\"text-align: right;\">\n",
       "      <th></th>\n",
       "      <th>Blue</th>\n",
       "      <th>Orange</th>\n",
       "    </tr>\n",
       "  </thead>\n",
       "  <tbody>\n",
       "    <tr>\n",
       "      <th>1</th>\n",
       "      <td>8.91</td>\n",
       "      <td>11.08</td>\n",
       "    </tr>\n",
       "    <tr>\n",
       "      <th>2</th>\n",
       "      <td>8.71</td>\n",
       "      <td>10.71</td>\n",
       "    </tr>\n",
       "    <tr>\n",
       "      <th>3</th>\n",
       "      <td>8.43</td>\n",
       "      <td>11.59</td>\n",
       "    </tr>\n",
       "    <tr>\n",
       "      <th>4</th>\n",
       "      <td>8.73</td>\n",
       "      <td>12.11</td>\n",
       "    </tr>\n",
       "  </tbody>\n",
       "</table>\n",
       "</div>"
      ],
      "text/plain": [
       "   Blue  Orange\n",
       "1  8.91   11.08\n",
       "2  8.71   10.71\n",
       "3  8.43   11.59\n",
       "4  8.73   12.11"
      ]
     },
     "execution_count": 14,
     "metadata": {},
     "output_type": "execute_result"
    }
   ],
   "source": [
    "prices.iloc[1:]"
   ]
  },
  {
   "cell_type": "code",
   "execution_count": 15,
   "id": "1d2b218b",
   "metadata": {},
   "outputs": [
    {
     "data": {
      "text/html": [
       "<div>\n",
       "<style scoped>\n",
       "    .dataframe tbody tr th:only-of-type {\n",
       "        vertical-align: middle;\n",
       "    }\n",
       "\n",
       "    .dataframe tbody tr th {\n",
       "        vertical-align: top;\n",
       "    }\n",
       "\n",
       "    .dataframe thead th {\n",
       "        text-align: right;\n",
       "    }\n",
       "</style>\n",
       "<table border=\"1\" class=\"dataframe\">\n",
       "  <thead>\n",
       "    <tr style=\"text-align: right;\">\n",
       "      <th></th>\n",
       "      <th>Blue</th>\n",
       "      <th>Orange</th>\n",
       "    </tr>\n",
       "  </thead>\n",
       "  <tbody>\n",
       "    <tr>\n",
       "      <th>0</th>\n",
       "      <td>8.70</td>\n",
       "      <td>10.66</td>\n",
       "    </tr>\n",
       "    <tr>\n",
       "      <th>1</th>\n",
       "      <td>8.91</td>\n",
       "      <td>11.08</td>\n",
       "    </tr>\n",
       "    <tr>\n",
       "      <th>2</th>\n",
       "      <td>8.71</td>\n",
       "      <td>10.71</td>\n",
       "    </tr>\n",
       "    <tr>\n",
       "      <th>3</th>\n",
       "      <td>8.43</td>\n",
       "      <td>11.59</td>\n",
       "    </tr>\n",
       "  </tbody>\n",
       "</table>\n",
       "</div>"
      ],
      "text/plain": [
       "   Blue  Orange\n",
       "0  8.70   10.66\n",
       "1  8.91   11.08\n",
       "2  8.71   10.71\n",
       "3  8.43   11.59"
      ]
     },
     "execution_count": 15,
     "metadata": {},
     "output_type": "execute_result"
    }
   ],
   "source": [
    "prices.iloc[:-1]"
   ]
  },
  {
   "cell_type": "markdown",
   "id": "0a710b3c",
   "metadata": {},
   "source": [
    "**WARNING**\n",
    "\n",
    "However, because Pandas DataFrames will align the row index (in this case: 0, 1, 2, 3, 4) the exact same code fragment will not work as you might expect."
   ]
  },
  {
   "cell_type": "code",
   "execution_count": 16,
   "id": "98aefa43",
   "metadata": {},
   "outputs": [
    {
     "data": {
      "text/html": [
       "<div>\n",
       "<style scoped>\n",
       "    .dataframe tbody tr th:only-of-type {\n",
       "        vertical-align: middle;\n",
       "    }\n",
       "\n",
       "    .dataframe tbody tr th {\n",
       "        vertical-align: top;\n",
       "    }\n",
       "\n",
       "    .dataframe thead th {\n",
       "        text-align: right;\n",
       "    }\n",
       "</style>\n",
       "<table border=\"1\" class=\"dataframe\">\n",
       "  <thead>\n",
       "    <tr style=\"text-align: right;\">\n",
       "      <th></th>\n",
       "      <th>Blue</th>\n",
       "      <th>Orange</th>\n",
       "    </tr>\n",
       "  </thead>\n",
       "  <tbody>\n",
       "    <tr>\n",
       "      <th>0</th>\n",
       "      <td>NaN</td>\n",
       "      <td>NaN</td>\n",
       "    </tr>\n",
       "    <tr>\n",
       "      <th>1</th>\n",
       "      <td>0.0</td>\n",
       "      <td>0.0</td>\n",
       "    </tr>\n",
       "    <tr>\n",
       "      <th>2</th>\n",
       "      <td>0.0</td>\n",
       "      <td>0.0</td>\n",
       "    </tr>\n",
       "    <tr>\n",
       "      <th>3</th>\n",
       "      <td>0.0</td>\n",
       "      <td>0.0</td>\n",
       "    </tr>\n",
       "    <tr>\n",
       "      <th>4</th>\n",
       "      <td>NaN</td>\n",
       "      <td>NaN</td>\n",
       "    </tr>\n",
       "  </tbody>\n",
       "</table>\n",
       "</div>"
      ],
      "text/plain": [
       "   Blue  Orange\n",
       "0   NaN     NaN\n",
       "1   0.0     0.0\n",
       "2   0.0     0.0\n",
       "3   0.0     0.0\n",
       "4   NaN     NaN"
      ]
     },
     "execution_count": 16,
     "metadata": {},
     "output_type": "execute_result"
    }
   ],
   "source": [
    "prices.iloc[1:] / prices.iloc[:-1] - 1"
   ]
  },
  {
   "cell_type": "markdown",
   "id": "d97cf6a1",
   "metadata": {},
   "source": [
    "We can instead use the method `.values` to convert the DataFrame and just pull the values out to a numpy array/matrix"
   ]
  },
  {
   "cell_type": "code",
   "execution_count": 17,
   "id": "50ed452c",
   "metadata": {},
   "outputs": [
    {
     "data": {
      "text/html": [
       "<div>\n",
       "<style scoped>\n",
       "    .dataframe tbody tr th:only-of-type {\n",
       "        vertical-align: middle;\n",
       "    }\n",
       "\n",
       "    .dataframe tbody tr th {\n",
       "        vertical-align: top;\n",
       "    }\n",
       "\n",
       "    .dataframe thead th {\n",
       "        text-align: right;\n",
       "    }\n",
       "</style>\n",
       "<table border=\"1\" class=\"dataframe\">\n",
       "  <thead>\n",
       "    <tr style=\"text-align: right;\">\n",
       "      <th></th>\n",
       "      <th>Blue</th>\n",
       "      <th>Orange</th>\n",
       "    </tr>\n",
       "  </thead>\n",
       "  <tbody>\n",
       "    <tr>\n",
       "      <th>0</th>\n",
       "      <td>0.024138</td>\n",
       "      <td>0.039400</td>\n",
       "    </tr>\n",
       "    <tr>\n",
       "      <th>1</th>\n",
       "      <td>-0.022447</td>\n",
       "      <td>-0.033394</td>\n",
       "    </tr>\n",
       "    <tr>\n",
       "      <th>2</th>\n",
       "      <td>-0.032147</td>\n",
       "      <td>0.082166</td>\n",
       "    </tr>\n",
       "    <tr>\n",
       "      <th>3</th>\n",
       "      <td>0.035587</td>\n",
       "      <td>0.044866</td>\n",
       "    </tr>\n",
       "  </tbody>\n",
       "</table>\n",
       "</div>"
      ],
      "text/plain": [
       "       Blue    Orange\n",
       "0  0.024138  0.039400\n",
       "1 -0.022447 -0.033394\n",
       "2 -0.032147  0.082166\n",
       "3  0.035587  0.044866"
      ]
     },
     "execution_count": 17,
     "metadata": {},
     "output_type": "execute_result"
    }
   ],
   "source": [
    "prices.iloc[1:].values / prices.iloc[:-1] - 1"
   ]
  },
  {
   "cell_type": "markdown",
   "id": "dbbdf3b3",
   "metadata": {},
   "source": [
    "Another way to do it: we can use the pandas method ``shift()``"
   ]
  },
  {
   "cell_type": "code",
   "execution_count": 18,
   "id": "f6e9ee27",
   "metadata": {},
   "outputs": [
    {
     "data": {
      "text/html": [
       "<div>\n",
       "<style scoped>\n",
       "    .dataframe tbody tr th:only-of-type {\n",
       "        vertical-align: middle;\n",
       "    }\n",
       "\n",
       "    .dataframe tbody tr th {\n",
       "        vertical-align: top;\n",
       "    }\n",
       "\n",
       "    .dataframe thead th {\n",
       "        text-align: right;\n",
       "    }\n",
       "</style>\n",
       "<table border=\"1\" class=\"dataframe\">\n",
       "  <thead>\n",
       "    <tr style=\"text-align: right;\">\n",
       "      <th></th>\n",
       "      <th>Blue</th>\n",
       "      <th>Orange</th>\n",
       "    </tr>\n",
       "  </thead>\n",
       "  <tbody>\n",
       "    <tr>\n",
       "      <th>0</th>\n",
       "      <td>NaN</td>\n",
       "      <td>NaN</td>\n",
       "    </tr>\n",
       "    <tr>\n",
       "      <th>1</th>\n",
       "      <td>0.024138</td>\n",
       "      <td>0.039400</td>\n",
       "    </tr>\n",
       "    <tr>\n",
       "      <th>2</th>\n",
       "      <td>-0.022447</td>\n",
       "      <td>-0.033394</td>\n",
       "    </tr>\n",
       "    <tr>\n",
       "      <th>3</th>\n",
       "      <td>-0.032147</td>\n",
       "      <td>0.082166</td>\n",
       "    </tr>\n",
       "    <tr>\n",
       "      <th>4</th>\n",
       "      <td>0.035587</td>\n",
       "      <td>0.044866</td>\n",
       "    </tr>\n",
       "  </tbody>\n",
       "</table>\n",
       "</div>"
      ],
      "text/plain": [
       "       Blue    Orange\n",
       "0       NaN       NaN\n",
       "1  0.024138  0.039400\n",
       "2 -0.022447 -0.033394\n",
       "3 -0.032147  0.082166\n",
       "4  0.035587  0.044866"
      ]
     },
     "execution_count": 18,
     "metadata": {},
     "output_type": "execute_result"
    }
   ],
   "source": [
    "prices / prices.shift(1) - 1"
   ]
  },
  {
   "cell_type": "markdown",
   "id": "246419ff",
   "metadata": {},
   "source": [
    "Pandas has already a built-in method to do this, called ``pct_change()``"
   ]
  },
  {
   "cell_type": "code",
   "execution_count": 19,
   "id": "cf217068",
   "metadata": {},
   "outputs": [
    {
     "data": {
      "text/html": [
       "<div>\n",
       "<style scoped>\n",
       "    .dataframe tbody tr th:only-of-type {\n",
       "        vertical-align: middle;\n",
       "    }\n",
       "\n",
       "    .dataframe tbody tr th {\n",
       "        vertical-align: top;\n",
       "    }\n",
       "\n",
       "    .dataframe thead th {\n",
       "        text-align: right;\n",
       "    }\n",
       "</style>\n",
       "<table border=\"1\" class=\"dataframe\">\n",
       "  <thead>\n",
       "    <tr style=\"text-align: right;\">\n",
       "      <th></th>\n",
       "      <th>Blue</th>\n",
       "      <th>Orange</th>\n",
       "    </tr>\n",
       "  </thead>\n",
       "  <tbody>\n",
       "    <tr>\n",
       "      <th>0</th>\n",
       "      <td>NaN</td>\n",
       "      <td>NaN</td>\n",
       "    </tr>\n",
       "    <tr>\n",
       "      <th>1</th>\n",
       "      <td>0.024138</td>\n",
       "      <td>0.039400</td>\n",
       "    </tr>\n",
       "    <tr>\n",
       "      <th>2</th>\n",
       "      <td>-0.022447</td>\n",
       "      <td>-0.033394</td>\n",
       "    </tr>\n",
       "    <tr>\n",
       "      <th>3</th>\n",
       "      <td>-0.032147</td>\n",
       "      <td>0.082166</td>\n",
       "    </tr>\n",
       "    <tr>\n",
       "      <th>4</th>\n",
       "      <td>0.035587</td>\n",
       "      <td>0.044866</td>\n",
       "    </tr>\n",
       "  </tbody>\n",
       "</table>\n",
       "</div>"
      ],
      "text/plain": [
       "       Blue    Orange\n",
       "0       NaN       NaN\n",
       "1  0.024138  0.039400\n",
       "2 -0.022447 -0.033394\n",
       "3 -0.032147  0.082166\n",
       "4  0.035587  0.044866"
      ]
     },
     "execution_count": 19,
     "metadata": {},
     "output_type": "execute_result"
    }
   ],
   "source": [
    "prices.pct_change()"
   ]
  },
  {
   "cell_type": "code",
   "execution_count": 21,
   "id": "aef076da",
   "metadata": {},
   "outputs": [
    {
     "data": {
      "text/html": [
       "<div>\n",
       "<style scoped>\n",
       "    .dataframe tbody tr th:only-of-type {\n",
       "        vertical-align: middle;\n",
       "    }\n",
       "\n",
       "    .dataframe tbody tr th {\n",
       "        vertical-align: top;\n",
       "    }\n",
       "\n",
       "    .dataframe thead th {\n",
       "        text-align: right;\n",
       "    }\n",
       "</style>\n",
       "<table border=\"1\" class=\"dataframe\">\n",
       "  <thead>\n",
       "    <tr style=\"text-align: right;\">\n",
       "      <th></th>\n",
       "      <th>BLUE</th>\n",
       "      <th>ORANGE</th>\n",
       "    </tr>\n",
       "  </thead>\n",
       "  <tbody>\n",
       "    <tr>\n",
       "      <th>0</th>\n",
       "      <td>8.7000</td>\n",
       "      <td>10.6600</td>\n",
       "    </tr>\n",
       "    <tr>\n",
       "      <th>1</th>\n",
       "      <td>8.9055</td>\n",
       "      <td>11.0828</td>\n",
       "    </tr>\n",
       "    <tr>\n",
       "      <th>2</th>\n",
       "      <td>8.7113</td>\n",
       "      <td>10.7100</td>\n",
       "    </tr>\n",
       "    <tr>\n",
       "      <th>3</th>\n",
       "      <td>8.4346</td>\n",
       "      <td>11.5907</td>\n",
       "    </tr>\n",
       "    <tr>\n",
       "      <th>4</th>\n",
       "      <td>8.7254</td>\n",
       "      <td>12.1070</td>\n",
       "    </tr>\n",
       "    <tr>\n",
       "      <th>5</th>\n",
       "      <td>9.0551</td>\n",
       "      <td>11.7876</td>\n",
       "    </tr>\n",
       "    <tr>\n",
       "      <th>6</th>\n",
       "      <td>8.9514</td>\n",
       "      <td>11.2078</td>\n",
       "    </tr>\n",
       "    <tr>\n",
       "      <th>7</th>\n",
       "      <td>9.2439</td>\n",
       "      <td>12.5192</td>\n",
       "    </tr>\n",
       "    <tr>\n",
       "      <th>8</th>\n",
       "      <td>9.1276</td>\n",
       "      <td>13.3624</td>\n",
       "    </tr>\n",
       "    <tr>\n",
       "      <th>9</th>\n",
       "      <td>9.3976</td>\n",
       "      <td>14.4080</td>\n",
       "    </tr>\n",
       "    <tr>\n",
       "      <th>10</th>\n",
       "      <td>9.4554</td>\n",
       "      <td>11.9837</td>\n",
       "    </tr>\n",
       "    <tr>\n",
       "      <th>11</th>\n",
       "      <td>9.5704</td>\n",
       "      <td>12.2718</td>\n",
       "    </tr>\n",
       "    <tr>\n",
       "      <th>12</th>\n",
       "      <td>9.7728</td>\n",
       "      <td>11.5892</td>\n",
       "    </tr>\n",
       "  </tbody>\n",
       "</table>\n",
       "</div>"
      ],
      "text/plain": [
       "      BLUE   ORANGE\n",
       "0   8.7000  10.6600\n",
       "1   8.9055  11.0828\n",
       "2   8.7113  10.7100\n",
       "3   8.4346  11.5907\n",
       "4   8.7254  12.1070\n",
       "5   9.0551  11.7876\n",
       "6   8.9514  11.2078\n",
       "7   9.2439  12.5192\n",
       "8   9.1276  13.3624\n",
       "9   9.3976  14.4080\n",
       "10  9.4554  11.9837\n",
       "11  9.5704  12.2718\n",
       "12  9.7728  11.5892"
      ]
     },
     "execution_count": 21,
     "metadata": {},
     "output_type": "execute_result"
    }
   ],
   "source": [
    "prices = pd.read_csv('../../data/sample_prices.csv')\n",
    "prices"
   ]
  },
  {
   "cell_type": "code",
   "execution_count": 22,
   "id": "7a383c92",
   "metadata": {},
   "outputs": [
    {
     "data": {
      "text/html": [
       "<div>\n",
       "<style scoped>\n",
       "    .dataframe tbody tr th:only-of-type {\n",
       "        vertical-align: middle;\n",
       "    }\n",
       "\n",
       "    .dataframe tbody tr th {\n",
       "        vertical-align: top;\n",
       "    }\n",
       "\n",
       "    .dataframe thead th {\n",
       "        text-align: right;\n",
       "    }\n",
       "</style>\n",
       "<table border=\"1\" class=\"dataframe\">\n",
       "  <thead>\n",
       "    <tr style=\"text-align: right;\">\n",
       "      <th></th>\n",
       "      <th>BLUE</th>\n",
       "      <th>ORANGE</th>\n",
       "    </tr>\n",
       "  </thead>\n",
       "  <tbody>\n",
       "    <tr>\n",
       "      <th>0</th>\n",
       "      <td>NaN</td>\n",
       "      <td>NaN</td>\n",
       "    </tr>\n",
       "    <tr>\n",
       "      <th>1</th>\n",
       "      <td>0.023621</td>\n",
       "      <td>0.039662</td>\n",
       "    </tr>\n",
       "    <tr>\n",
       "      <th>2</th>\n",
       "      <td>-0.021807</td>\n",
       "      <td>-0.033638</td>\n",
       "    </tr>\n",
       "    <tr>\n",
       "      <th>3</th>\n",
       "      <td>-0.031763</td>\n",
       "      <td>0.082232</td>\n",
       "    </tr>\n",
       "    <tr>\n",
       "      <th>4</th>\n",
       "      <td>0.034477</td>\n",
       "      <td>0.044544</td>\n",
       "    </tr>\n",
       "    <tr>\n",
       "      <th>5</th>\n",
       "      <td>0.037786</td>\n",
       "      <td>-0.026381</td>\n",
       "    </tr>\n",
       "    <tr>\n",
       "      <th>6</th>\n",
       "      <td>-0.011452</td>\n",
       "      <td>-0.049187</td>\n",
       "    </tr>\n",
       "    <tr>\n",
       "      <th>7</th>\n",
       "      <td>0.032676</td>\n",
       "      <td>0.117008</td>\n",
       "    </tr>\n",
       "    <tr>\n",
       "      <th>8</th>\n",
       "      <td>-0.012581</td>\n",
       "      <td>0.067353</td>\n",
       "    </tr>\n",
       "    <tr>\n",
       "      <th>9</th>\n",
       "      <td>0.029581</td>\n",
       "      <td>0.078249</td>\n",
       "    </tr>\n",
       "    <tr>\n",
       "      <th>10</th>\n",
       "      <td>0.006151</td>\n",
       "      <td>-0.168261</td>\n",
       "    </tr>\n",
       "    <tr>\n",
       "      <th>11</th>\n",
       "      <td>0.012162</td>\n",
       "      <td>0.024041</td>\n",
       "    </tr>\n",
       "    <tr>\n",
       "      <th>12</th>\n",
       "      <td>0.021149</td>\n",
       "      <td>-0.055623</td>\n",
       "    </tr>\n",
       "  </tbody>\n",
       "</table>\n",
       "</div>"
      ],
      "text/plain": [
       "        BLUE    ORANGE\n",
       "0        NaN       NaN\n",
       "1   0.023621  0.039662\n",
       "2  -0.021807 -0.033638\n",
       "3  -0.031763  0.082232\n",
       "4   0.034477  0.044544\n",
       "5   0.037786 -0.026381\n",
       "6  -0.011452 -0.049187\n",
       "7   0.032676  0.117008\n",
       "8  -0.012581  0.067353\n",
       "9   0.029581  0.078249\n",
       "10  0.006151 -0.168261\n",
       "11  0.012162  0.024041\n",
       "12  0.021149 -0.055623"
      ]
     },
     "execution_count": 22,
     "metadata": {},
     "output_type": "execute_result"
    }
   ],
   "source": [
    "returns = prices.pct_change()\n",
    "returns"
   ]
  },
  {
   "cell_type": "code",
   "execution_count": 23,
   "id": "281a234a",
   "metadata": {},
   "outputs": [
    {
     "data": {
      "text/plain": [
       "<Axes: >"
      ]
     },
     "execution_count": 23,
     "metadata": {},
     "output_type": "execute_result"
    },
    {
     "data": {
      "image/png": "[encoded data removed]",
      "text/plain": [
       "<Figure size 640x480 with 1 Axes>"
      ]
     },
     "metadata": {},
     "output_type": "display_data"
    }
   ],
   "source": [
    "prices.plot()"
   ]
  },
  {
   "cell_type": "code",
   "execution_count": 24,
   "id": "dff5a8d4",
   "metadata": {},
   "outputs": [
    {
     "data": {
      "text/plain": [
       "<Axes: >"
      ]
     },
     "execution_count": 24,
     "metadata": {},
     "output_type": "execute_result"
    },
    {
     "data": {
      "image/png": "[encoded data removed]",
      "text/plain": [
       "<Figure size 640x480 with 1 Axes>"
      ]
     },
     "metadata": {},
     "output_type": "display_data"
    }
   ],
   "source": [
    "returns.plot.bar()"
   ]
  },
  {
   "cell_type": "markdown",
   "id": "65253724",
   "metadata": {},
   "source": [
    "Computing the standard deviation of these assets"
   ]
  },
  {
   "cell_type": "code",
   "execution_count": 25,
   "id": "2d9cb01e",
   "metadata": {},
   "outputs": [
    {
     "data": {
      "text/plain": [
       "BLUE      0.023977\n",
       "ORANGE    0.079601\n",
       "dtype: float64"
      ]
     },
     "execution_count": 25,
     "metadata": {},
     "output_type": "execute_result"
    }
   ],
   "source": [
    "returns.std()"
   ]
  },
  {
   "cell_type": "code",
   "execution_count": 26,
   "id": "4e471b1e",
   "metadata": {},
   "outputs": [
    {
     "data": {
      "text/plain": [
       "BLUE      0.01\n",
       "ORANGE    0.01\n",
       "dtype: float64"
      ]
     },
     "execution_count": 26,
     "metadata": {},
     "output_type": "execute_result"
    }
   ],
   "source": [
    "returns.mean()"
   ]
  },
  {
   "cell_type": "code",
   "execution_count": 28,
   "id": "06295673",
   "metadata": {},
   "outputs": [
    {
     "data": {
      "text/plain": [
       "BLUE      0.123310\n",
       "ORANGE    0.087167\n",
       "dtype: float64"
      ]
     },
     "execution_count": 28,
     "metadata": {},
     "output_type": "execute_result"
    }
   ],
   "source": [
    "np.prod(returns + 1, axis=0) - 1"
   ]
  },
  {
   "cell_type": "code",
   "execution_count": 29,
   "id": "5da460cb",
   "metadata": {},
   "outputs": [
    {
     "data": {
      "text/plain": [
       "BLUE      0.123310\n",
       "ORANGE    0.087167\n",
       "dtype: float64"
      ]
     },
     "execution_count": 29,
     "metadata": {},
     "output_type": "execute_result"
    }
   ],
   "source": [
    "(returns + 1).prod() - 1"
   ]
  },
  {
   "cell_type": "markdown",
   "id": "fdf7fc11",
   "metadata": {},
   "source": [
    "**Annualization**"
   ]
  },
  {
   "cell_type": "code",
   "execution_count": 30,
   "id": "3ccab925",
   "metadata": {},
   "outputs": [
    {
     "data": {
      "text/plain": [
       "1.1268250301319698"
      ]
     },
     "execution_count": 30,
     "metadata": {},
     "output_type": "execute_result"
    }
   ],
   "source": [
    "rm = 0.01\n",
    "(1 + rm) ** 12"
   ]
  },
  {
   "cell_type": "code",
   "execution_count": 31,
   "id": "11d4b4e6",
   "metadata": {},
   "outputs": [
    {
     "data": {
      "text/plain": [
       "1.1698585600000002"
      ]
     },
     "execution_count": 31,
     "metadata": {},
     "output_type": "execute_result"
    }
   ],
   "source": [
    "rq = 0.04\n",
    "(1 + rq) ** 4"
   ]
  },
  {
   "cell_type": "code",
   "execution_count": 32,
   "id": "42aef381",
   "metadata": {},
   "outputs": [
    {
     "data": {
      "text/plain": [
       "1.0255189119876946"
      ]
     },
     "execution_count": 32,
     "metadata": {},
     "output_type": "execute_result"
    }
   ],
   "source": [
    "rd = 0.0001\n",
    "(1 + rd) ** 252"
   ]
  },
  {
   "cell_type": "markdown",
   "id": "c1de34eb",
   "metadata": {},
   "source": [
    "##### Measures of risk and reward"
   ]
  },
  {
   "cell_type": "markdown",
   "id": "743ef061",
   "metadata": {},
   "source": [
    "We compute the **average of the square** of the deviations from the mean. This measure is called variance and is computed as follows:\n",
    "\n",
    "$$\\sigma_{R}^2 = \\frac{1}{N} \\sum_{i=1}^{N} {(R_i - \\bar{R})^2}$$\n",
    "\n",
    "Where $\\bar{R}$ is the arithmetic mean of the returns. \n",
    "\n",
    "The variance of a set of returns is nothing more than the average of the square of the deviations from its mean."
   ]
  },
  {
   "cell_type": "markdown",
   "id": "62f39aed",
   "metadata": {},
   "source": [
    "The standard deviation is given by:\n",
    "\n",
    "$$\\sigma_{R} = \\sqrt{\\frac{1}{N} \\sum_{i=1}^{N} {(R_i - \\bar{R})^2}}$$"
   ]
  },
  {
   "cell_type": "markdown",
   "id": "8b564479",
   "metadata": {},
   "source": [
    "**Annualizing volatility**\n",
    "\n",
    "We can't compare the volatility from daily data with the volatility from monthly data. For that we have to annualize volatility, and we do it the following way:\n",
    "\n",
    "$$\\sigma^2_{ann} = p\\sigma^2_{p}$$\n",
    "$$\\sigma_{ann} = \\sigma_{p}\\sqrt{p}$$\n",
    "\n",
    "There are approximately 252 trading days per calendar year"
   ]
  },
  {
   "cell_type": "markdown",
   "id": "423706a6",
   "metadata": {},
   "source": [
    "**Example** The standard deviation of a stock's daily return series is $0.1\\%$\n",
    "\n",
    "$$0.001 \\cdot \\sqrt{252} = 1.58\\% $$"
   ]
  },
  {
   "cell_type": "markdown",
   "id": "1598f737",
   "metadata": {},
   "source": [
    "**Risk Adjusted Measures** \n",
    "\n",
    "<c>![Large cap returns vs small cap returns](images/stock_returns_small_large.png)</c>"
   ]
  },
  {
   "cell_type": "markdown",
   "id": "d1bd5ab2",
   "metadata": {},
   "source": [
    "The blue line are US small caps, and the red line are US large caps. How do we compare these two? One way to think it about it is to simply compute the ratio, how much return did I get per unit risk?\n",
    "\n",
    "That's called the return on risk ratio. "
   ]
  },
  {
   "cell_type": "markdown",
   "id": "86afdb26",
   "metadata": {},
   "source": [
    "We should look at its excess return over the risk free rate\n",
    "\n",
    "$$ Return\\: on\\: Risk\\: Ratio = \\frac{Return}{Volatility}$$\n",
    "\n",
    "$$ Sharpe\\: Ratio = \\frac{Return\\: -\\: risk\\: free\\: rate}{Volatility}$$"
   ]
  },
  {
   "cell_type": "markdown",
   "id": "0a4ffb5f",
   "metadata": {},
   "source": [
    "$$ Sharpe\\: Ratio(P) = \\frac{R_p-R_f}{\\sigma_p}$$"
   ]
  },
  {
   "cell_type": "markdown",
   "id": "09b7c1e1",
   "metadata": {},
   "source": [
    "##### Lab Session - Risk Adjusted Returns"
   ]
  },
  {
   "cell_type": "markdown",
   "id": "5afbeb71",
   "metadata": {},
   "source": [
    "We've seen that the volatility is measured by the average squared deviation from the mean, which is the standard deviation.\n",
    "\n",
    "Let's read the sample returns that we've been working with."
   ]
  },
  {
   "cell_type": "code",
   "execution_count": 34,
   "id": "ada84664",
   "metadata": {},
   "outputs": [
    {
     "data": {
      "text/html": [
       "<div>\n",
       "<style scoped>\n",
       "    .dataframe tbody tr th:only-of-type {\n",
       "        vertical-align: middle;\n",
       "    }\n",
       "\n",
       "    .dataframe tbody tr th {\n",
       "        vertical-align: top;\n",
       "    }\n",
       "\n",
       "    .dataframe thead th {\n",
       "        text-align: right;\n",
       "    }\n",
       "</style>\n",
       "<table border=\"1\" class=\"dataframe\">\n",
       "  <thead>\n",
       "    <tr style=\"text-align: right;\">\n",
       "      <th></th>\n",
       "      <th>BLUE</th>\n",
       "      <th>ORANGE</th>\n",
       "    </tr>\n",
       "  </thead>\n",
       "  <tbody>\n",
       "    <tr>\n",
       "      <th>0</th>\n",
       "      <td>NaN</td>\n",
       "      <td>NaN</td>\n",
       "    </tr>\n",
       "    <tr>\n",
       "      <th>1</th>\n",
       "      <td>0.023621</td>\n",
       "      <td>0.039662</td>\n",
       "    </tr>\n",
       "    <tr>\n",
       "      <th>2</th>\n",
       "      <td>-0.021807</td>\n",
       "      <td>-0.033638</td>\n",
       "    </tr>\n",
       "    <tr>\n",
       "      <th>3</th>\n",
       "      <td>-0.031763</td>\n",
       "      <td>0.082232</td>\n",
       "    </tr>\n",
       "    <tr>\n",
       "      <th>4</th>\n",
       "      <td>0.034477</td>\n",
       "      <td>0.044544</td>\n",
       "    </tr>\n",
       "    <tr>\n",
       "      <th>5</th>\n",
       "      <td>0.037786</td>\n",
       "      <td>-0.026381</td>\n",
       "    </tr>\n",
       "    <tr>\n",
       "      <th>6</th>\n",
       "      <td>-0.011452</td>\n",
       "      <td>-0.049187</td>\n",
       "    </tr>\n",
       "    <tr>\n",
       "      <th>7</th>\n",
       "      <td>0.032676</td>\n",
       "      <td>0.117008</td>\n",
       "    </tr>\n",
       "    <tr>\n",
       "      <th>8</th>\n",
       "      <td>-0.012581</td>\n",
       "      <td>0.067353</td>\n",
       "    </tr>\n",
       "    <tr>\n",
       "      <th>9</th>\n",
       "      <td>0.029581</td>\n",
       "      <td>0.078249</td>\n",
       "    </tr>\n",
       "    <tr>\n",
       "      <th>10</th>\n",
       "      <td>0.006151</td>\n",
       "      <td>-0.168261</td>\n",
       "    </tr>\n",
       "    <tr>\n",
       "      <th>11</th>\n",
       "      <td>0.012162</td>\n",
       "      <td>0.024041</td>\n",
       "    </tr>\n",
       "    <tr>\n",
       "      <th>12</th>\n",
       "      <td>0.021149</td>\n",
       "      <td>-0.055623</td>\n",
       "    </tr>\n",
       "  </tbody>\n",
       "</table>\n",
       "</div>"
      ],
      "text/plain": [
       "        BLUE    ORANGE\n",
       "0        NaN       NaN\n",
       "1   0.023621  0.039662\n",
       "2  -0.021807 -0.033638\n",
       "3  -0.031763  0.082232\n",
       "4   0.034477  0.044544\n",
       "5   0.037786 -0.026381\n",
       "6  -0.011452 -0.049187\n",
       "7   0.032676  0.117008\n",
       "8  -0.012581  0.067353\n",
       "9   0.029581  0.078249\n",
       "10  0.006151 -0.168261\n",
       "11  0.012162  0.024041\n",
       "12  0.021149 -0.055623"
      ]
     },
     "execution_count": 34,
     "metadata": {},
     "output_type": "execute_result"
    }
   ],
   "source": [
    "prices = pd.read_csv('../../data/sample_prices.csv')\n",
    "\n",
    "returns = prices.pct_change()\n",
    "returns"
   ]
  },
  {
   "cell_type": "markdown",
   "id": "23b2bf1e",
   "metadata": {},
   "source": [
    "Notice that the first set of returns are NaN, which is Pandas way of saying that it's an NA. We can drop that row using the `.dropna()` method."
   ]
  },
  {
   "cell_type": "code",
   "execution_count": 35,
   "id": "e441161d",
   "metadata": {},
   "outputs": [
    {
     "data": {
      "text/html": [
       "<div>\n",
       "<style scoped>\n",
       "    .dataframe tbody tr th:only-of-type {\n",
       "        vertical-align: middle;\n",
       "    }\n",
       "\n",
       "    .dataframe tbody tr th {\n",
       "        vertical-align: top;\n",
       "    }\n",
       "\n",
       "    .dataframe thead th {\n",
       "        text-align: right;\n",
       "    }\n",
       "</style>\n",
       "<table border=\"1\" class=\"dataframe\">\n",
       "  <thead>\n",
       "    <tr style=\"text-align: right;\">\n",
       "      <th></th>\n",
       "      <th>BLUE</th>\n",
       "      <th>ORANGE</th>\n",
       "    </tr>\n",
       "  </thead>\n",
       "  <tbody>\n",
       "    <tr>\n",
       "      <th>1</th>\n",
       "      <td>0.023621</td>\n",
       "      <td>0.039662</td>\n",
       "    </tr>\n",
       "    <tr>\n",
       "      <th>2</th>\n",
       "      <td>-0.021807</td>\n",
       "      <td>-0.033638</td>\n",
       "    </tr>\n",
       "    <tr>\n",
       "      <th>3</th>\n",
       "      <td>-0.031763</td>\n",
       "      <td>0.082232</td>\n",
       "    </tr>\n",
       "    <tr>\n",
       "      <th>4</th>\n",
       "      <td>0.034477</td>\n",
       "      <td>0.044544</td>\n",
       "    </tr>\n",
       "    <tr>\n",
       "      <th>5</th>\n",
       "      <td>0.037786</td>\n",
       "      <td>-0.026381</td>\n",
       "    </tr>\n",
       "    <tr>\n",
       "      <th>6</th>\n",
       "      <td>-0.011452</td>\n",
       "      <td>-0.049187</td>\n",
       "    </tr>\n",
       "    <tr>\n",
       "      <th>7</th>\n",
       "      <td>0.032676</td>\n",
       "      <td>0.117008</td>\n",
       "    </tr>\n",
       "    <tr>\n",
       "      <th>8</th>\n",
       "      <td>-0.012581</td>\n",
       "      <td>0.067353</td>\n",
       "    </tr>\n",
       "    <tr>\n",
       "      <th>9</th>\n",
       "      <td>0.029581</td>\n",
       "      <td>0.078249</td>\n",
       "    </tr>\n",
       "    <tr>\n",
       "      <th>10</th>\n",
       "      <td>0.006151</td>\n",
       "      <td>-0.168261</td>\n",
       "    </tr>\n",
       "    <tr>\n",
       "      <th>11</th>\n",
       "      <td>0.012162</td>\n",
       "      <td>0.024041</td>\n",
       "    </tr>\n",
       "    <tr>\n",
       "      <th>12</th>\n",
       "      <td>0.021149</td>\n",
       "      <td>-0.055623</td>\n",
       "    </tr>\n",
       "  </tbody>\n",
       "</table>\n",
       "</div>"
      ],
      "text/plain": [
       "        BLUE    ORANGE\n",
       "1   0.023621  0.039662\n",
       "2  -0.021807 -0.033638\n",
       "3  -0.031763  0.082232\n",
       "4   0.034477  0.044544\n",
       "5   0.037786 -0.026381\n",
       "6  -0.011452 -0.049187\n",
       "7   0.032676  0.117008\n",
       "8  -0.012581  0.067353\n",
       "9   0.029581  0.078249\n",
       "10  0.006151 -0.168261\n",
       "11  0.012162  0.024041\n",
       "12  0.021149 -0.055623"
      ]
     },
     "execution_count": 35,
     "metadata": {},
     "output_type": "execute_result"
    }
   ],
   "source": [
    "returns = returns.dropna()\n",
    "returns"
   ]
  },
  {
   "cell_type": "markdown",
   "id": "b3a282c8",
   "metadata": {},
   "source": [
    "Let's compute the standard deviation from first principles:"
   ]
  },
  {
   "cell_type": "code",
   "execution_count": 36,
   "id": "3c275467",
   "metadata": {},
   "outputs": [
    {
     "data": {
      "text/plain": [
       "BLUE      0.023977\n",
       "ORANGE    0.079601\n",
       "dtype: float64"
      ]
     },
     "execution_count": 36,
     "metadata": {},
     "output_type": "execute_result"
    }
   ],
   "source": [
    "returns.std()"
   ]
  },
  {
   "cell_type": "code",
   "execution_count": null,
   "id": "a5cbf8e5",
   "metadata": {},
   "outputs": [
    {
     "data": {
      "text/plain": [
       "BLUE      0.023977\n",
       "ORANGE    0.079601\n",
       "dtype: float64"
      ]
     },
     "execution_count": 37,
     "metadata": {},
     "output_type": "execute_result"
    }
   ],
   "source": [
    "devations = returns - returns.mean()\n",
    "squared_deviations = devations ** 2\n",
    "variance = squared_deviations.sum() / (returns.shape[0] - 1)\n",
    "volatility = np.sqrt(variance)\n",
    "volatility"
   ]
  },
  {
   "cell_type": "markdown",
   "id": "53d4a60b",
   "metadata": {},
   "source": [
    "We annualize volatility by scaling (multiplying) it by the square root of the number of periods per observation\n",
    "\n",
    "Therefore, to annualize the volatility of a monthly series, we muiltiply it by the square root of 12. Instead of using the `np.sqrt()` we can raise it to the power of $0.5$"
   ]
  },
  {
   "cell_type": "code",
   "execution_count": 38,
   "id": "2b1c0492",
   "metadata": {},
   "outputs": [
    {
     "data": {
      "text/plain": [
       "BLUE      0.083060\n",
       "ORANGE    0.275747\n",
       "dtype: float64"
      ]
     },
     "execution_count": 38,
     "metadata": {},
     "output_type": "execute_result"
    }
   ],
   "source": [
    "# Annualizing it\n",
    "\n",
    "volatility * np.sqrt(12)"
   ]
  },
  {
   "cell_type": "markdown",
   "id": "39eabab4",
   "metadata": {},
   "source": [
    "Let's get beyond the sample data series and start working with some real data. Read in the monthly returns of a set of 10 portfolios formed on market caps, or market equities of the companies. Of the 10 portfolios, we only want to look at the largest cap and the smallest cap companies:"
   ]
  },
  {
   "cell_type": "code",
   "execution_count": 39,
   "id": "ac48d1d4",
   "metadata": {},
   "outputs": [
    {
     "name": "stderr",
     "output_type": "stream",
     "text": [
      "C:\\Users\\JUANJO\\AppData\\Local\\Temp\\ipykernel_33644\\2149718106.py:1: UserWarning: Could not infer format, so each element will be parsed individually, falling back to `dateutil`. To ensure parsing is consistent and as-expected, please specify a format.\n",
      "  returns = pd.read_csv('../../data/Portfolios_Formed_on_ME_monthly_EW.csv',\n"
     ]
    }
   ],
   "source": [
    "returns = pd.read_csv('../../data/Portfolios_Formed_on_ME_monthly_EW.csv', \n",
    "            header=0, index_col=0, parse_dates=True, na_values=-99.99)"
   ]
  },
  {
   "cell_type": "code",
   "execution_count": 40,
   "id": "d172c397",
   "metadata": {},
   "outputs": [
    {
     "data": {
      "text/html": [
       "<div>\n",
       "<style scoped>\n",
       "    .dataframe tbody tr th:only-of-type {\n",
       "        vertical-align: middle;\n",
       "    }\n",
       "\n",
       "    .dataframe tbody tr th {\n",
       "        vertical-align: top;\n",
       "    }\n",
       "\n",
       "    .dataframe thead th {\n",
       "        text-align: right;\n",
       "    }\n",
       "</style>\n",
       "<table border=\"1\" class=\"dataframe\">\n",
       "  <thead>\n",
       "    <tr style=\"text-align: right;\">\n",
       "      <th></th>\n",
       "      <th>&lt;= 0</th>\n",
       "      <th>Lo 30</th>\n",
       "      <th>Med 40</th>\n",
       "      <th>Hi 30</th>\n",
       "      <th>Lo 20</th>\n",
       "      <th>Qnt 2</th>\n",
       "      <th>Qnt 3</th>\n",
       "      <th>Qnt 4</th>\n",
       "      <th>Hi 20</th>\n",
       "      <th>Lo 10</th>\n",
       "      <th>Dec 2</th>\n",
       "      <th>Dec 3</th>\n",
       "      <th>Dec 4</th>\n",
       "      <th>Dec 5</th>\n",
       "      <th>Dec 6</th>\n",
       "      <th>Dec 7</th>\n",
       "      <th>Dec 8</th>\n",
       "      <th>Dec 9</th>\n",
       "      <th>Hi 10</th>\n",
       "    </tr>\n",
       "  </thead>\n",
       "  <tbody>\n",
       "    <tr>\n",
       "      <th>192607</th>\n",
       "      <td>NaN</td>\n",
       "      <td>-0.43</td>\n",
       "      <td>1.52</td>\n",
       "      <td>2.68</td>\n",
       "      <td>-0.57</td>\n",
       "      <td>0.59</td>\n",
       "      <td>1.60</td>\n",
       "      <td>1.47</td>\n",
       "      <td>3.33</td>\n",
       "      <td>-1.45</td>\n",
       "      <td>0.29</td>\n",
       "      <td>-0.15</td>\n",
       "      <td>1.33</td>\n",
       "      <td>1.24</td>\n",
       "      <td>1.98</td>\n",
       "      <td>1.55</td>\n",
       "      <td>1.38</td>\n",
       "      <td>3.38</td>\n",
       "      <td>3.29</td>\n",
       "    </tr>\n",
       "    <tr>\n",
       "      <th>192608</th>\n",
       "      <td>NaN</td>\n",
       "      <td>3.90</td>\n",
       "      <td>3.04</td>\n",
       "      <td>2.09</td>\n",
       "      <td>3.84</td>\n",
       "      <td>3.59</td>\n",
       "      <td>3.71</td>\n",
       "      <td>1.61</td>\n",
       "      <td>2.33</td>\n",
       "      <td>5.12</td>\n",
       "      <td>2.59</td>\n",
       "      <td>4.03</td>\n",
       "      <td>3.15</td>\n",
       "      <td>2.72</td>\n",
       "      <td>4.72</td>\n",
       "      <td>1.60</td>\n",
       "      <td>1.63</td>\n",
       "      <td>0.98</td>\n",
       "      <td>3.70</td>\n",
       "    </tr>\n",
       "    <tr>\n",
       "      <th>192609</th>\n",
       "      <td>NaN</td>\n",
       "      <td>-1.08</td>\n",
       "      <td>-0.54</td>\n",
       "      <td>0.16</td>\n",
       "      <td>-0.48</td>\n",
       "      <td>-1.40</td>\n",
       "      <td>0.00</td>\n",
       "      <td>-0.50</td>\n",
       "      <td>-0.09</td>\n",
       "      <td>0.93</td>\n",
       "      <td>-1.87</td>\n",
       "      <td>-2.27</td>\n",
       "      <td>-0.53</td>\n",
       "      <td>0.07</td>\n",
       "      <td>-0.07</td>\n",
       "      <td>-1.64</td>\n",
       "      <td>0.64</td>\n",
       "      <td>-0.86</td>\n",
       "      <td>0.67</td>\n",
       "    </tr>\n",
       "    <tr>\n",
       "      <th>192610</th>\n",
       "      <td>NaN</td>\n",
       "      <td>-3.32</td>\n",
       "      <td>-3.52</td>\n",
       "      <td>-3.06</td>\n",
       "      <td>-3.29</td>\n",
       "      <td>-4.10</td>\n",
       "      <td>-2.89</td>\n",
       "      <td>-3.36</td>\n",
       "      <td>-2.95</td>\n",
       "      <td>-4.84</td>\n",
       "      <td>-1.77</td>\n",
       "      <td>-3.36</td>\n",
       "      <td>-4.83</td>\n",
       "      <td>-2.98</td>\n",
       "      <td>-2.80</td>\n",
       "      <td>-3.45</td>\n",
       "      <td>-3.27</td>\n",
       "      <td>-3.47</td>\n",
       "      <td>-2.43</td>\n",
       "    </tr>\n",
       "    <tr>\n",
       "      <th>192611</th>\n",
       "      <td>NaN</td>\n",
       "      <td>-0.46</td>\n",
       "      <td>3.82</td>\n",
       "      <td>3.09</td>\n",
       "      <td>-0.55</td>\n",
       "      <td>2.18</td>\n",
       "      <td>3.41</td>\n",
       "      <td>3.39</td>\n",
       "      <td>3.16</td>\n",
       "      <td>-0.78</td>\n",
       "      <td>-0.32</td>\n",
       "      <td>-0.29</td>\n",
       "      <td>4.65</td>\n",
       "      <td>3.24</td>\n",
       "      <td>3.57</td>\n",
       "      <td>3.82</td>\n",
       "      <td>2.95</td>\n",
       "      <td>3.61</td>\n",
       "      <td>2.70</td>\n",
       "    </tr>\n",
       "  </tbody>\n",
       "</table>\n",
       "</div>"
      ],
      "text/plain": [
       "        <= 0  Lo 30  Med 40  Hi 30  Lo 20  Qnt 2  Qnt 3  Qnt 4  Hi 20  Lo 10  \\\n",
       "192607   NaN  -0.43    1.52   2.68  -0.57   0.59   1.60   1.47   3.33  -1.45   \n",
       "192608   NaN   3.90    3.04   2.09   3.84   3.59   3.71   1.61   2.33   5.12   \n",
       "192609   NaN  -1.08   -0.54   0.16  -0.48  -1.40   0.00  -0.50  -0.09   0.93   \n",
       "192610   NaN  -3.32   -3.52  -3.06  -3.29  -4.10  -2.89  -3.36  -2.95  -4.84   \n",
       "192611   NaN  -0.46    3.82   3.09  -0.55   2.18   3.41   3.39   3.16  -0.78   \n",
       "\n",
       "        Dec 2  Dec 3  Dec 4  Dec 5  Dec 6  Dec 7  Dec 8  Dec 9  Hi 10  \n",
       "192607   0.29  -0.15   1.33   1.24   1.98   1.55   1.38   3.38   3.29  \n",
       "192608   2.59   4.03   3.15   2.72   4.72   1.60   1.63   0.98   3.70  \n",
       "192609  -1.87  -2.27  -0.53   0.07  -0.07  -1.64   0.64  -0.86   0.67  \n",
       "192610  -1.77  -3.36  -4.83  -2.98  -2.80  -3.45  -3.27  -3.47  -2.43  \n",
       "192611  -0.32  -0.29   4.65   3.24   3.57   3.82   2.95   3.61   2.70  "
      ]
     },
     "execution_count": 40,
     "metadata": {},
     "output_type": "execute_result"
    }
   ],
   "source": [
    "returns.head()"
   ]
  },
  {
   "cell_type": "code",
   "execution_count": 41,
   "id": "6c8f826f",
   "metadata": {},
   "outputs": [
    {
     "data": {
      "text/html": [
       "<div>\n",
       "<style scoped>\n",
       "    .dataframe tbody tr th:only-of-type {\n",
       "        vertical-align: middle;\n",
       "    }\n",
       "\n",
       "    .dataframe tbody tr th {\n",
       "        vertical-align: top;\n",
       "    }\n",
       "\n",
       "    .dataframe thead th {\n",
       "        text-align: right;\n",
       "    }\n",
       "</style>\n",
       "<table border=\"1\" class=\"dataframe\">\n",
       "  <thead>\n",
       "    <tr style=\"text-align: right;\">\n",
       "      <th></th>\n",
       "      <th>Lo 10</th>\n",
       "      <th>Hi 10</th>\n",
       "    </tr>\n",
       "  </thead>\n",
       "  <tbody>\n",
       "    <tr>\n",
       "      <th>192607</th>\n",
       "      <td>-1.45</td>\n",
       "      <td>3.29</td>\n",
       "    </tr>\n",
       "    <tr>\n",
       "      <th>192608</th>\n",
       "      <td>5.12</td>\n",
       "      <td>3.70</td>\n",
       "    </tr>\n",
       "    <tr>\n",
       "      <th>192609</th>\n",
       "      <td>0.93</td>\n",
       "      <td>0.67</td>\n",
       "    </tr>\n",
       "    <tr>\n",
       "      <th>192610</th>\n",
       "      <td>-4.84</td>\n",
       "      <td>-2.43</td>\n",
       "    </tr>\n",
       "    <tr>\n",
       "      <th>192611</th>\n",
       "      <td>-0.78</td>\n",
       "      <td>2.70</td>\n",
       "    </tr>\n",
       "  </tbody>\n",
       "</table>\n",
       "</div>"
      ],
      "text/plain": [
       "        Lo 10  Hi 10\n",
       "192607  -1.45   3.29\n",
       "192608   5.12   3.70\n",
       "192609   0.93   0.67\n",
       "192610  -4.84  -2.43\n",
       "192611  -0.78   2.70"
      ]
     },
     "execution_count": 41,
     "metadata": {},
     "output_type": "execute_result"
    }
   ],
   "source": [
    "columns = ['Lo 10', 'Hi 10']\n",
    "\n",
    "returns = returns[columns]\n",
    "returns.head()"
   ]
  },
  {
   "cell_type": "markdown",
   "id": "f290dbdb",
   "metadata": {},
   "source": [
    "Note that the data is already given in percentages (i.e 4.5 instead of 0.045) and we typically want to use the actual numbers (i.e. 0.045 instead of 4.5) so we should divide the raw data from the file by 100."
   ]
  },
  {
   "cell_type": "code",
   "execution_count": 42,
   "id": "b243963a",
   "metadata": {},
   "outputs": [
    {
     "data": {
      "text/html": [
       "<div>\n",
       "<style scoped>\n",
       "    .dataframe tbody tr th:only-of-type {\n",
       "        vertical-align: middle;\n",
       "    }\n",
       "\n",
       "    .dataframe tbody tr th {\n",
       "        vertical-align: top;\n",
       "    }\n",
       "\n",
       "    .dataframe thead th {\n",
       "        text-align: right;\n",
       "    }\n",
       "</style>\n",
       "<table border=\"1\" class=\"dataframe\">\n",
       "  <thead>\n",
       "    <tr style=\"text-align: right;\">\n",
       "      <th></th>\n",
       "      <th>Lo 10</th>\n",
       "      <th>Hi 10</th>\n",
       "    </tr>\n",
       "  </thead>\n",
       "  <tbody>\n",
       "    <tr>\n",
       "      <th>192607</th>\n",
       "      <td>-0.0145</td>\n",
       "      <td>0.0329</td>\n",
       "    </tr>\n",
       "    <tr>\n",
       "      <th>192608</th>\n",
       "      <td>0.0512</td>\n",
       "      <td>0.0370</td>\n",
       "    </tr>\n",
       "    <tr>\n",
       "      <th>192609</th>\n",
       "      <td>0.0093</td>\n",
       "      <td>0.0067</td>\n",
       "    </tr>\n",
       "    <tr>\n",
       "      <th>192610</th>\n",
       "      <td>-0.0484</td>\n",
       "      <td>-0.0243</td>\n",
       "    </tr>\n",
       "    <tr>\n",
       "      <th>192611</th>\n",
       "      <td>-0.0078</td>\n",
       "      <td>0.0270</td>\n",
       "    </tr>\n",
       "  </tbody>\n",
       "</table>\n",
       "</div>"
      ],
      "text/plain": [
       "         Lo 10   Hi 10\n",
       "192607 -0.0145  0.0329\n",
       "192608  0.0512  0.0370\n",
       "192609  0.0093  0.0067\n",
       "192610 -0.0484 -0.0243\n",
       "192611 -0.0078  0.0270"
      ]
     },
     "execution_count": 42,
     "metadata": {},
     "output_type": "execute_result"
    }
   ],
   "source": [
    "returns = returns / 100\n",
    "returns.head()"
   ]
  },
  {
   "cell_type": "code",
   "execution_count": 43,
   "id": "b7a8b889",
   "metadata": {},
   "outputs": [
    {
     "data": {
      "text/html": [
       "<div>\n",
       "<style scoped>\n",
       "    .dataframe tbody tr th:only-of-type {\n",
       "        vertical-align: middle;\n",
       "    }\n",
       "\n",
       "    .dataframe tbody tr th {\n",
       "        vertical-align: top;\n",
       "    }\n",
       "\n",
       "    .dataframe thead th {\n",
       "        text-align: right;\n",
       "    }\n",
       "</style>\n",
       "<table border=\"1\" class=\"dataframe\">\n",
       "  <thead>\n",
       "    <tr style=\"text-align: right;\">\n",
       "      <th></th>\n",
       "      <th>SmallCap</th>\n",
       "      <th>LargeCap</th>\n",
       "    </tr>\n",
       "  </thead>\n",
       "  <tbody>\n",
       "    <tr>\n",
       "      <th>192607</th>\n",
       "      <td>-0.0145</td>\n",
       "      <td>0.0329</td>\n",
       "    </tr>\n",
       "    <tr>\n",
       "      <th>192608</th>\n",
       "      <td>0.0512</td>\n",
       "      <td>0.0370</td>\n",
       "    </tr>\n",
       "    <tr>\n",
       "      <th>192609</th>\n",
       "      <td>0.0093</td>\n",
       "      <td>0.0067</td>\n",
       "    </tr>\n",
       "    <tr>\n",
       "      <th>192610</th>\n",
       "      <td>-0.0484</td>\n",
       "      <td>-0.0243</td>\n",
       "    </tr>\n",
       "    <tr>\n",
       "      <th>192611</th>\n",
       "      <td>-0.0078</td>\n",
       "      <td>0.0270</td>\n",
       "    </tr>\n",
       "  </tbody>\n",
       "</table>\n",
       "</div>"
      ],
      "text/plain": [
       "        SmallCap  LargeCap\n",
       "192607   -0.0145    0.0329\n",
       "192608    0.0512    0.0370\n",
       "192609    0.0093    0.0067\n",
       "192610   -0.0484   -0.0243\n",
       "192611   -0.0078    0.0270"
      ]
     },
     "execution_count": 43,
     "metadata": {},
     "output_type": "execute_result"
    }
   ],
   "source": [
    "returns.columns = ['SmallCap', 'LargeCap']\n",
    "returns.head()"
   ]
  },
  {
   "cell_type": "code",
   "execution_count": 44,
   "id": "0c8161de",
   "metadata": {},
   "outputs": [
    {
     "data": {
      "text/plain": [
       "<Axes: >"
      ]
     },
     "execution_count": 44,
     "metadata": {},
     "output_type": "execute_result"
    },
    {
     "data": {
      "image/png": "[encoded data removed]",
      "text/plain": [
       "<Figure size 640x480 with 1 Axes>"
      ]
     },
     "metadata": {},
     "output_type": "display_data"
    }
   ],
   "source": [
    "returns.plot.line()"
   ]
  },
  {
   "cell_type": "code",
   "execution_count": 45,
   "id": "05f42864",
   "metadata": {},
   "outputs": [
    {
     "data": {
      "text/plain": [
       "SmallCap    0.106288\n",
       "LargeCap    0.053900\n",
       "dtype: float64"
      ]
     },
     "execution_count": 45,
     "metadata": {},
     "output_type": "execute_result"
    }
   ],
   "source": [
    "returns.std()"
   ]
  },
  {
   "cell_type": "code",
   "execution_count": 46,
   "id": "8f39c81d",
   "metadata": {},
   "outputs": [
    {
     "data": {
      "text/plain": [
       "SmallCap    0.368193\n",
       "LargeCap    0.186716\n",
       "dtype: float64"
      ]
     },
     "execution_count": 46,
     "metadata": {},
     "output_type": "execute_result"
    }
   ],
   "source": [
    "annualized_vol = returns.std() * np.sqrt(12)\n",
    "annualized_vol"
   ]
  },
  {
   "cell_type": "markdown",
   "id": "32e0b6c9",
   "metadata": {},
   "source": [
    "We can now compute the annualized returns as follows:"
   ]
  },
  {
   "cell_type": "code",
   "execution_count": 48,
   "id": "2c1a746b",
   "metadata": {},
   "outputs": [
    {
     "data": {
      "text/plain": [
       "SmallCap    0.012986\n",
       "LargeCap    0.007423\n",
       "dtype: float64"
      ]
     },
     "execution_count": 48,
     "metadata": {},
     "output_type": "execute_result"
    }
   ],
   "source": [
    "n_months = returns.shape[0]\n",
    "return_per_month = (returns + 1).prod() ** (1 / n_months) - 1\n",
    "return_per_month"
   ]
  },
  {
   "cell_type": "code",
   "execution_count": 49,
   "id": "ccff2a73",
   "metadata": {},
   "outputs": [
    {
     "data": {
      "text/plain": [
       "SmallCap    0.167463\n",
       "LargeCap    0.092810\n",
       "dtype: float64"
      ]
     },
     "execution_count": 49,
     "metadata": {},
     "output_type": "execute_result"
    }
   ],
   "source": [
    "annualized_return = (return_per_month + 1) ** 12 - 1\n",
    "annualized_return"
   ]
  },
  {
   "cell_type": "code",
   "execution_count": 50,
   "id": "255a717e",
   "metadata": {},
   "outputs": [
    {
     "data": {
      "text/plain": [
       "SmallCap    0.167463\n",
       "LargeCap    0.092810\n",
       "dtype: float64"
      ]
     },
     "execution_count": 50,
     "metadata": {},
     "output_type": "execute_result"
    }
   ],
   "source": [
    "# Another way to compute the annualized return \n",
    "annualized_return = (returns + 1).prod() ** (12/n_months) - 1\n",
    "annualized_return"
   ]
  },
  {
   "cell_type": "code",
   "execution_count": 51,
   "id": "5d8cb078",
   "metadata": {},
   "outputs": [
    {
     "data": {
      "text/plain": [
       "SmallCap    0.454825\n",
       "LargeCap    0.497063\n",
       "dtype: float64"
      ]
     },
     "execution_count": 51,
     "metadata": {},
     "output_type": "execute_result"
    }
   ],
   "source": [
    "annualized_return / annualized_vol"
   ]
  },
  {
   "cell_type": "code",
   "execution_count": 52,
   "id": "d657768d",
   "metadata": {},
   "outputs": [
    {
     "data": {
      "text/plain": [
       "SmallCap    0.373346\n",
       "LargeCap    0.336392\n",
       "dtype: float64"
      ]
     },
     "execution_count": 52,
     "metadata": {},
     "output_type": "execute_result"
    }
   ],
   "source": [
    "riskfree_rate = 0.03\n",
    "\n",
    "excess_return = annualized_return - riskfree_rate\n",
    "\n",
    "sharpe_ratio = excess_return / annualized_vol\n",
    "sharpe_ratio"
   ]
  },
  {
   "cell_type": "markdown",
   "id": "223b626d",
   "metadata": {},
   "source": [
    "**Exercise computing the sharpe ratio taking the smallest 20% vs the largest 20%**"
   ]
  },
  {
   "cell_type": "code",
   "execution_count": 54,
   "id": "7cac3336",
   "metadata": {},
   "outputs": [
    {
     "name": "stderr",
     "output_type": "stream",
     "text": [
      "C:\\Users\\JUANJO\\AppData\\Local\\Temp\\ipykernel_33644\\1786914167.py:1: UserWarning: Could not infer format, so each element will be parsed individually, falling back to `dateutil`. To ensure parsing is consistent and as-expected, please specify a format.\n",
      "  returns = pd.read_csv('../../data/Portfolios_Formed_on_ME_monthly_EW.csv',\n"
     ]
    }
   ],
   "source": [
    "returns = pd.read_csv('../../data/Portfolios_Formed_on_ME_monthly_EW.csv', \n",
    "            header = 0, index_col = 0, parse_dates = True, na_values = -99.99)"
   ]
  },
  {
   "cell_type": "code",
   "execution_count": 55,
   "id": "f513d4a9",
   "metadata": {},
   "outputs": [
    {
     "data": {
      "text/html": [
       "<div>\n",
       "<style scoped>\n",
       "    .dataframe tbody tr th:only-of-type {\n",
       "        vertical-align: middle;\n",
       "    }\n",
       "\n",
       "    .dataframe tbody tr th {\n",
       "        vertical-align: top;\n",
       "    }\n",
       "\n",
       "    .dataframe thead th {\n",
       "        text-align: right;\n",
       "    }\n",
       "</style>\n",
       "<table border=\"1\" class=\"dataframe\">\n",
       "  <thead>\n",
       "    <tr style=\"text-align: right;\">\n",
       "      <th></th>\n",
       "      <th>Lo 20</th>\n",
       "      <th>Hi 20</th>\n",
       "    </tr>\n",
       "  </thead>\n",
       "  <tbody>\n",
       "    <tr>\n",
       "      <th>192607</th>\n",
       "      <td>-0.57</td>\n",
       "      <td>3.33</td>\n",
       "    </tr>\n",
       "    <tr>\n",
       "      <th>192608</th>\n",
       "      <td>3.84</td>\n",
       "      <td>2.33</td>\n",
       "    </tr>\n",
       "    <tr>\n",
       "      <th>192609</th>\n",
       "      <td>-0.48</td>\n",
       "      <td>-0.09</td>\n",
       "    </tr>\n",
       "    <tr>\n",
       "      <th>192610</th>\n",
       "      <td>-3.29</td>\n",
       "      <td>-2.95</td>\n",
       "    </tr>\n",
       "    <tr>\n",
       "      <th>192611</th>\n",
       "      <td>-0.55</td>\n",
       "      <td>3.16</td>\n",
       "    </tr>\n",
       "  </tbody>\n",
       "</table>\n",
       "</div>"
      ],
      "text/plain": [
       "        Lo 20  Hi 20\n",
       "192607  -0.57   3.33\n",
       "192608   3.84   2.33\n",
       "192609  -0.48  -0.09\n",
       "192610  -3.29  -2.95\n",
       "192611  -0.55   3.16"
      ]
     },
     "execution_count": 55,
     "metadata": {},
     "output_type": "execute_result"
    }
   ],
   "source": [
    "cols = ['Lo 20', 'Hi 20']\n",
    "returns = returns[cols]\n",
    "returns.head()"
   ]
  },
  {
   "cell_type": "code",
   "execution_count": 56,
   "id": "5f7d7aab",
   "metadata": {},
   "outputs": [
    {
     "data": {
      "text/html": [
       "<div>\n",
       "<style scoped>\n",
       "    .dataframe tbody tr th:only-of-type {\n",
       "        vertical-align: middle;\n",
       "    }\n",
       "\n",
       "    .dataframe tbody tr th {\n",
       "        vertical-align: top;\n",
       "    }\n",
       "\n",
       "    .dataframe thead th {\n",
       "        text-align: right;\n",
       "    }\n",
       "</style>\n",
       "<table border=\"1\" class=\"dataframe\">\n",
       "  <thead>\n",
       "    <tr style=\"text-align: right;\">\n",
       "      <th></th>\n",
       "      <th>Lo 20</th>\n",
       "      <th>Hi 20</th>\n",
       "    </tr>\n",
       "  </thead>\n",
       "  <tbody>\n",
       "    <tr>\n",
       "      <th>192607</th>\n",
       "      <td>-0.0057</td>\n",
       "      <td>0.0333</td>\n",
       "    </tr>\n",
       "    <tr>\n",
       "      <th>192608</th>\n",
       "      <td>0.0384</td>\n",
       "      <td>0.0233</td>\n",
       "    </tr>\n",
       "    <tr>\n",
       "      <th>192609</th>\n",
       "      <td>-0.0048</td>\n",
       "      <td>-0.0009</td>\n",
       "    </tr>\n",
       "    <tr>\n",
       "      <th>192610</th>\n",
       "      <td>-0.0329</td>\n",
       "      <td>-0.0295</td>\n",
       "    </tr>\n",
       "    <tr>\n",
       "      <th>192611</th>\n",
       "      <td>-0.0055</td>\n",
       "      <td>0.0316</td>\n",
       "    </tr>\n",
       "  </tbody>\n",
       "</table>\n",
       "</div>"
      ],
      "text/plain": [
       "         Lo 20   Hi 20\n",
       "192607 -0.0057  0.0333\n",
       "192608  0.0384  0.0233\n",
       "192609 -0.0048 -0.0009\n",
       "192610 -0.0329 -0.0295\n",
       "192611 -0.0055  0.0316"
      ]
     },
     "execution_count": 56,
     "metadata": {},
     "output_type": "execute_result"
    }
   ],
   "source": [
    "returns = returns / 100 \n",
    "returns.head()"
   ]
  },
  {
   "cell_type": "code",
   "execution_count": 57,
   "id": "de3b0499",
   "metadata": {},
   "outputs": [
    {
     "data": {
      "text/plain": [
       "Lo 20    0.097197\n",
       "Hi 20    0.056325\n",
       "dtype: float64"
      ]
     },
     "execution_count": 57,
     "metadata": {},
     "output_type": "execute_result"
    }
   ],
   "source": [
    "returns.std()"
   ]
  },
  {
   "cell_type": "code",
   "execution_count": 58,
   "id": "9b4485da",
   "metadata": {},
   "outputs": [
    {
     "data": {
      "text/html": [
       "<div>\n",
       "<style scoped>\n",
       "    .dataframe tbody tr th:only-of-type {\n",
       "        vertical-align: middle;\n",
       "    }\n",
       "\n",
       "    .dataframe tbody tr th {\n",
       "        vertical-align: top;\n",
       "    }\n",
       "\n",
       "    .dataframe thead th {\n",
       "        text-align: right;\n",
       "    }\n",
       "</style>\n",
       "<table border=\"1\" class=\"dataframe\">\n",
       "  <thead>\n",
       "    <tr style=\"text-align: right;\">\n",
       "      <th></th>\n",
       "      <th>SmallCap20</th>\n",
       "      <th>LargeCap20</th>\n",
       "    </tr>\n",
       "  </thead>\n",
       "  <tbody>\n",
       "    <tr>\n",
       "      <th>192607</th>\n",
       "      <td>-0.0057</td>\n",
       "      <td>0.0333</td>\n",
       "    </tr>\n",
       "    <tr>\n",
       "      <th>192608</th>\n",
       "      <td>0.0384</td>\n",
       "      <td>0.0233</td>\n",
       "    </tr>\n",
       "    <tr>\n",
       "      <th>192609</th>\n",
       "      <td>-0.0048</td>\n",
       "      <td>-0.0009</td>\n",
       "    </tr>\n",
       "    <tr>\n",
       "      <th>192610</th>\n",
       "      <td>-0.0329</td>\n",
       "      <td>-0.0295</td>\n",
       "    </tr>\n",
       "    <tr>\n",
       "      <th>192611</th>\n",
       "      <td>-0.0055</td>\n",
       "      <td>0.0316</td>\n",
       "    </tr>\n",
       "    <tr>\n",
       "      <th>...</th>\n",
       "      <td>...</td>\n",
       "      <td>...</td>\n",
       "    </tr>\n",
       "    <tr>\n",
       "      <th>201808</th>\n",
       "      <td>0.0309</td>\n",
       "      <td>0.0249</td>\n",
       "    </tr>\n",
       "    <tr>\n",
       "      <th>201809</th>\n",
       "      <td>-0.0204</td>\n",
       "      <td>0.0019</td>\n",
       "    </tr>\n",
       "    <tr>\n",
       "      <th>201810</th>\n",
       "      <td>-0.1052</td>\n",
       "      <td>-0.0741</td>\n",
       "    </tr>\n",
       "    <tr>\n",
       "      <th>201811</th>\n",
       "      <td>-0.0278</td>\n",
       "      <td>0.0249</td>\n",
       "    </tr>\n",
       "    <tr>\n",
       "      <th>201812</th>\n",
       "      <td>-0.1477</td>\n",
       "      <td>-0.0921</td>\n",
       "    </tr>\n",
       "  </tbody>\n",
       "</table>\n",
       "<p>1110 rows × 2 columns</p>\n",
       "</div>"
      ],
      "text/plain": [
       "        SmallCap20  LargeCap20\n",
       "192607     -0.0057      0.0333\n",
       "192608      0.0384      0.0233\n",
       "192609     -0.0048     -0.0009\n",
       "192610     -0.0329     -0.0295\n",
       "192611     -0.0055      0.0316\n",
       "...            ...         ...\n",
       "201808      0.0309      0.0249\n",
       "201809     -0.0204      0.0019\n",
       "201810     -0.1052     -0.0741\n",
       "201811     -0.0278      0.0249\n",
       "201812     -0.1477     -0.0921\n",
       "\n",
       "[1110 rows x 2 columns]"
      ]
     },
     "execution_count": 58,
     "metadata": {},
     "output_type": "execute_result"
    }
   ],
   "source": [
    "returns.columns = ['SmallCap20', 'LargeCap20']\n",
    "returns"
   ]
  },
  {
   "cell_type": "code",
   "execution_count": 59,
   "id": "6c081fcf",
   "metadata": {},
   "outputs": [
    {
     "data": {
      "text/plain": [
       "<Axes: >"
      ]
     },
     "execution_count": 59,
     "metadata": {},
     "output_type": "execute_result"
    },
    {
     "data": {
      "image/png": "[encoded data removed]",
      "text/plain": [
       "<Figure size 640x480 with 1 Axes>"
      ]
     },
     "metadata": {},
     "output_type": "display_data"
    }
   ],
   "source": [
    "returns.plot.line()"
   ]
  },
  {
   "cell_type": "code",
   "execution_count": 60,
   "id": "3019eecd",
   "metadata": {},
   "outputs": [
    {
     "data": {
      "text/plain": [
       "SmallCap20    0.336701\n",
       "LargeCap20    0.195116\n",
       "dtype: float64"
      ]
     },
     "execution_count": 60,
     "metadata": {},
     "output_type": "execute_result"
    }
   ],
   "source": [
    "annualized_vol = returns.std() * np.sqrt(12)\n",
    "annualized_vol"
   ]
  },
  {
   "cell_type": "code",
   "execution_count": 61,
   "id": "20efad95",
   "metadata": {},
   "outputs": [
    {
     "data": {
      "text/plain": [
       "SmallCap20    0.151977\n",
       "LargeCap20    0.098490\n",
       "dtype: float64"
      ]
     },
     "execution_count": 61,
     "metadata": {},
     "output_type": "execute_result"
    }
   ],
   "source": [
    "n_months = returns.shape[0]\n",
    "annualized_return = (returns + 1).prod() ** (12/n_months) - 1\n",
    "annualized_return"
   ]
  },
  {
   "cell_type": "code",
   "execution_count": 62,
   "id": "ff639151",
   "metadata": {},
   "outputs": [
    {
     "data": {
      "text/plain": [
       "SmallCap20    0.451370\n",
       "LargeCap20    0.504778\n",
       "dtype: float64"
      ]
     },
     "execution_count": 62,
     "metadata": {},
     "output_type": "execute_result"
    }
   ],
   "source": [
    "annualized_return / annualized_vol"
   ]
  },
  {
   "cell_type": "code",
   "execution_count": 63,
   "id": "ed4b9da4",
   "metadata": {},
   "outputs": [
    {
     "data": {
      "text/plain": [
       "SmallCap20    0.362271\n",
       "LargeCap20    0.351023\n",
       "dtype: float64"
      ]
     },
     "execution_count": 63,
     "metadata": {},
     "output_type": "execute_result"
    }
   ],
   "source": [
    "riskfree_rate = 0.03\n",
    "\n",
    "excess_return = annualized_return - riskfree_rate\n",
    "sharpe_ratio = excess_return / annualized_vol\n",
    "sharpe_ratio"
   ]
  },
  {
   "cell_type": "markdown",
   "id": "35e5b078",
   "metadata": {},
   "source": [
    "##### Measuring max drawdown"
   ]
  },
  {
   "cell_type": "markdown",
   "id": "8124b17c",
   "metadata": {},
   "source": [
    "The max drawdown is the maximum loss from the previous high to a subsequent low. Buy at its highest value - sold at the bottom. The worst possible return you could have seen if you \"buy high, sold low\""
   ]
  },
  {
   "cell_type": "markdown",
   "id": "8e99057d",
   "metadata": {},
   "source": [
    "**Constructing a wealth index** \n",
    "\n",
    "1. Computing drawdowns is to construct a wealth index hypothetical buy-and-hold investment in the asset.\n",
    "\n",
    "![image.png](attachment:image.png)\n",
    "\n",
    "2. Look at the prior peak at any point in time\n",
    "\n",
    "![image.png](attachment:image-2.png)\n",
    "\n",
    "The drawdown is the distance from the green line to the blue line at any given point in time"
   ]
  },
  {
   "cell_type": "markdown",
   "id": "b34c9c89",
   "metadata": {},
   "source": [
    "* Drawdowns are entirely defined by two points and hence are very sensitive to outliers.\n",
    "* They depend on the frequency of observations, in general, a very deep drawdown on a daily or weekly basis might almost completely dissapear or move to very different location based on monthly data.\n",
    "* In spite of this shortcomings, drawdowns are closely monitored and popular amongst practicioners even though other measures like VAR and CVAR are more robust measures of extreme risk,"
   ]
  },
  {
   "cell_type": "markdown",
   "id": "1072f47b",
   "metadata": {},
   "source": [
    "##### Lab Session - Drawdown"
   ]
  },
  {
   "cell_type": "markdown",
   "id": "aa6a72dc",
   "metadata": {},
   "source": [
    "In this lab, we'll develop the code to compute the maximum drawdown of a return series, and we'll start to develop our own module which will act as a toolkit that we will add to during the course.\n",
    "\n",
    "First, let's read the return series we processed in the previous lab:"
   ]
  },
  {
   "cell_type": "code",
   "execution_count": null,
   "id": "a5d38041",
   "metadata": {},
   "outputs": [
    {
     "name": "stderr",
     "output_type": "stream",
     "text": [
      "C:\\Users\\Lenovo\\AppData\\Local\\Temp\\ipykernel_10752\\3308855969.py:1: UserWarning: Could not infer format, so each element will be parsed individually, falling back to `dateutil`. To ensure parsing is consistent and as-expected, please specify a format.\n",
      "  me_m = pd.read_csv('data/Portfolios_Formed_on_ME_monthly_EW.csv',\n"
     ]
    },
    {
     "data": {
      "text/plain": [
       "<Axes: >"
      ]
     },
     "metadata": {},
     "output_type": "display_data"
    },
    {
     "data": {
      "image/png": "[encoded data removed]",
      "text/plain": [
       "<Figure size 640x480 with 1 Axes>"
      ]
     },
     "metadata": {},
     "output_type": "display_data"
    }
   ],
   "source": [
    "me_m = pd.read_csv('data/Portfolios_Formed_on_ME_monthly_EW.csv', \n",
    "            header = 0, index_col = 0, parse_dates = True, na_values = -99.99)\n",
    "\n",
    "columns = ['Lo 10', 'Hi 10']\n",
    "rets = me_m[columns]\n",
    "rets.columns = ['SmallCap', 'LargeCap']\n",
    "rets = rets / 100\n",
    "\n",
    "rets.plot.line()"
   ]
  },
  {
   "cell_type": "code",
   "execution_count": null,
   "id": "15c70435",
   "metadata": {},
   "outputs": [
    {
     "data": {
      "text/html": [
       "<div>\n",
       "<style scoped>\n",
       "    .dataframe tbody tr th:only-of-type {\n",
       "        vertical-align: middle;\n",
       "    }\n",
       "\n",
       "    .dataframe tbody tr th {\n",
       "        vertical-align: top;\n",
       "    }\n",
       "\n",
       "    .dataframe thead th {\n",
       "        text-align: right;\n",
       "    }\n",
       "</style>\n",
       "<table border=\"1\" class=\"dataframe\">\n",
       "  <thead>\n",
       "    <tr style=\"text-align: right;\">\n",
       "      <th></th>\n",
       "      <th>SmallCap</th>\n",
       "      <th>LargeCap</th>\n",
       "    </tr>\n",
       "  </thead>\n",
       "  <tbody>\n",
       "    <tr>\n",
       "      <th>192607</th>\n",
       "      <td>-0.0145</td>\n",
       "      <td>0.0329</td>\n",
       "    </tr>\n",
       "    <tr>\n",
       "      <th>192608</th>\n",
       "      <td>0.0512</td>\n",
       "      <td>0.0370</td>\n",
       "    </tr>\n",
       "    <tr>\n",
       "      <th>192609</th>\n",
       "      <td>0.0093</td>\n",
       "      <td>0.0067</td>\n",
       "    </tr>\n",
       "    <tr>\n",
       "      <th>192610</th>\n",
       "      <td>-0.0484</td>\n",
       "      <td>-0.0243</td>\n",
       "    </tr>\n",
       "    <tr>\n",
       "      <th>192611</th>\n",
       "      <td>-0.0078</td>\n",
       "      <td>0.0270</td>\n",
       "    </tr>\n",
       "  </tbody>\n",
       "</table>\n",
       "</div>"
      ],
      "text/plain": [
       "        SmallCap  LargeCap\n",
       "192607   -0.0145    0.0329\n",
       "192608    0.0512    0.0370\n",
       "192609    0.0093    0.0067\n",
       "192610   -0.0484   -0.0243\n",
       "192611   -0.0078    0.0270"
      ]
     },
     "metadata": {},
     "output_type": "display_data"
    }
   ],
   "source": [
    "rets.head()"
   ]
  },
  {
   "cell_type": "markdown",
   "id": "6ff3263e",
   "metadata": {},
   "source": [
    "Timeseries - forcing the index to be a datetime"
   ]
  },
  {
   "cell_type": "code",
   "execution_count": null,
   "id": "dda657d3",
   "metadata": {},
   "outputs": [
    {
     "data": {
      "text/plain": [
       "Index([192607, 192608, 192609, 192610, 192611, 192612, 192701, 192702, 192703,\n",
       "       192704,\n",
       "       ...\n",
       "       201803, 201804, 201805, 201806, 201807, 201808, 201809, 201810, 201811,\n",
       "       201812],\n",
       "      dtype='int64', length=1110)"
      ]
     },
     "metadata": {},
     "output_type": "display_data"
    }
   ],
   "source": [
    "# Checking if the index is in datetime format\n",
    "\n",
    "rets.index"
   ]
  },
  {
   "cell_type": "code",
   "execution_count": null,
   "id": "e4a2b4ef",
   "metadata": {},
   "outputs": [
    {
     "data": {
      "text/html": [
       "<div>\n",
       "<style scoped>\n",
       "    .dataframe tbody tr th:only-of-type {\n",
       "        vertical-align: middle;\n",
       "    }\n",
       "\n",
       "    .dataframe tbody tr th {\n",
       "        vertical-align: top;\n",
       "    }\n",
       "\n",
       "    .dataframe thead th {\n",
       "        text-align: right;\n",
       "    }\n",
       "</style>\n",
       "<table border=\"1\" class=\"dataframe\">\n",
       "  <thead>\n",
       "    <tr style=\"text-align: right;\">\n",
       "      <th></th>\n",
       "      <th>SmallCap</th>\n",
       "      <th>LargeCap</th>\n",
       "    </tr>\n",
       "  </thead>\n",
       "  <tbody>\n",
       "    <tr>\n",
       "      <th>1926-07-01</th>\n",
       "      <td>-0.0145</td>\n",
       "      <td>0.0329</td>\n",
       "    </tr>\n",
       "    <tr>\n",
       "      <th>1926-08-01</th>\n",
       "      <td>0.0512</td>\n",
       "      <td>0.0370</td>\n",
       "    </tr>\n",
       "    <tr>\n",
       "      <th>1926-09-01</th>\n",
       "      <td>0.0093</td>\n",
       "      <td>0.0067</td>\n",
       "    </tr>\n",
       "    <tr>\n",
       "      <th>1926-10-01</th>\n",
       "      <td>-0.0484</td>\n",
       "      <td>-0.0243</td>\n",
       "    </tr>\n",
       "    <tr>\n",
       "      <th>1926-11-01</th>\n",
       "      <td>-0.0078</td>\n",
       "      <td>0.0270</td>\n",
       "    </tr>\n",
       "  </tbody>\n",
       "</table>\n",
       "</div>"
      ],
      "text/plain": [
       "            SmallCap  LargeCap\n",
       "1926-07-01   -0.0145    0.0329\n",
       "1926-08-01    0.0512    0.0370\n",
       "1926-09-01    0.0093    0.0067\n",
       "1926-10-01   -0.0484   -0.0243\n",
       "1926-11-01   -0.0078    0.0270"
      ]
     },
     "metadata": {},
     "output_type": "display_data"
    }
   ],
   "source": [
    "rets.index = pd.to_datetime(rets.index, format = '%Y%m')\n",
    "rets.head()"
   ]
  },
  {
   "cell_type": "code",
   "execution_count": null,
   "id": "66678806",
   "metadata": {},
   "outputs": [
    {
     "data": {
      "text/html": [
       "<div>\n",
       "<style scoped>\n",
       "    .dataframe tbody tr th:only-of-type {\n",
       "        vertical-align: middle;\n",
       "    }\n",
       "\n",
       "    .dataframe tbody tr th {\n",
       "        vertical-align: top;\n",
       "    }\n",
       "\n",
       "    .dataframe thead th {\n",
       "        text-align: right;\n",
       "    }\n",
       "</style>\n",
       "<table border=\"1\" class=\"dataframe\">\n",
       "  <thead>\n",
       "    <tr style=\"text-align: right;\">\n",
       "      <th></th>\n",
       "      <th>SmallCap</th>\n",
       "      <th>LargeCap</th>\n",
       "    </tr>\n",
       "  </thead>\n",
       "  <tbody>\n",
       "    <tr>\n",
       "      <th>1926-07</th>\n",
       "      <td>-0.0145</td>\n",
       "      <td>0.0329</td>\n",
       "    </tr>\n",
       "    <tr>\n",
       "      <th>1926-08</th>\n",
       "      <td>0.0512</td>\n",
       "      <td>0.0370</td>\n",
       "    </tr>\n",
       "    <tr>\n",
       "      <th>1926-09</th>\n",
       "      <td>0.0093</td>\n",
       "      <td>0.0067</td>\n",
       "    </tr>\n",
       "    <tr>\n",
       "      <th>1926-10</th>\n",
       "      <td>-0.0484</td>\n",
       "      <td>-0.0243</td>\n",
       "    </tr>\n",
       "    <tr>\n",
       "      <th>1926-11</th>\n",
       "      <td>-0.0078</td>\n",
       "      <td>0.0270</td>\n",
       "    </tr>\n",
       "  </tbody>\n",
       "</table>\n",
       "</div>"
      ],
      "text/plain": [
       "         SmallCap  LargeCap\n",
       "1926-07   -0.0145    0.0329\n",
       "1926-08    0.0512    0.0370\n",
       "1926-09    0.0093    0.0067\n",
       "1926-10   -0.0484   -0.0243\n",
       "1926-11   -0.0078    0.0270"
      ]
     },
     "metadata": {},
     "output_type": "display_data"
    }
   ],
   "source": [
    "# Converting the timestamp to a monthly timestamp\n",
    "\n",
    "rets.index = rets.index.to_period('M')\n",
    "rets.head()"
   ]
  },
  {
   "cell_type": "markdown",
   "id": "fa4a16ff",
   "metadata": {},
   "source": [
    "**Compute Drawdowns**\n",
    "\n",
    "1. Compute a wealth index\n",
    "2. Compute previous peaks\n",
    "3. Compute drawdown - which is the wealth value as a percentage of the previous peak"
   ]
  },
  {
   "cell_type": "code",
   "execution_count": null,
   "id": "e9879d37",
   "metadata": {},
   "outputs": [
    {
     "data": {
      "text/plain": [
       "1926-07    1032.900000\n",
       "1926-08    1071.117300\n",
       "1926-09    1078.293786\n",
       "1926-10    1052.091247\n",
       "1926-11    1080.497711\n",
       "Freq: M, Name: LargeCap, dtype: float64"
      ]
     },
     "metadata": {},
     "output_type": "display_data"
    }
   ],
   "source": [
    "wealth_index = 1000 * (1 + rets['LargeCap']).cumprod()\n",
    "wealth_index.head()"
   ]
  },
  {
   "cell_type": "code",
   "execution_count": null,
   "id": "0449a255",
   "metadata": {},
   "outputs": [
    {
     "data": {
      "text/plain": [
       "<Axes: >"
      ]
     },
     "metadata": {},
     "output_type": "display_data"
    },
    {
     "data": {
      "image/png": "[encoded data removed]",
      "text/plain": [
       "<Figure size 640x480 with 1 Axes>"
      ]
     },
     "metadata": {},
     "output_type": "display_data"
    }
   ],
   "source": [
    "wealth_index.plot.line()"
   ]
  },
  {
   "cell_type": "code",
   "execution_count": null,
   "id": "c112ff4c",
   "metadata": {},
   "outputs": [
    {
     "data": {
      "text/plain": [
       "<Axes: >"
      ]
     },
     "metadata": {},
     "output_type": "display_data"
    },
    {
     "data": {
      "image/png": "[encoded data removed]",
      "text/plain": [
       "<Figure size 640x480 with 1 Axes>"
      ]
     },
     "metadata": {},
     "output_type": "display_data"
    }
   ],
   "source": [
    "previous_peaks = wealth_index.cummax()\n",
    "previous_peaks.plot()"
   ]
  },
  {
   "cell_type": "code",
   "execution_count": null,
   "id": "c4da76d2",
   "metadata": {},
   "outputs": [
    {
     "data": {
      "text/plain": [
       "<Axes: >"
      ]
     },
     "metadata": {},
     "output_type": "display_data"
    },
    {
     "data": {
      "image/png": "[encoded data removed]",
      "text/plain": [
       "<Figure size 640x480 with 1 Axes>"
      ]
     },
     "metadata": {},
     "output_type": "display_data"
    }
   ],
   "source": [
    "drawdown = (wealth_index - previous_peaks) / previous_peaks\n",
    "drawdown.plot()"
   ]
  },
  {
   "cell_type": "markdown",
   "id": "a24a2c68",
   "metadata": {},
   "source": [
    "In the crash of 1929, people lost more than 80% of their wealth. Let's see that deeply"
   ]
  },
  {
   "cell_type": "code",
   "execution_count": null,
   "id": "c5bef08f",
   "metadata": {},
   "outputs": [
    {
     "data": {
      "text/plain": [
       "<Axes: >"
      ]
     },
     "metadata": {},
     "output_type": "display_data"
    },
    {
     "data": {
      "image/png": "[encoded data removed]",
      "text/plain": [
       "<Figure size 640x480 with 1 Axes>"
      ]
     },
     "metadata": {},
     "output_type": "display_data"
    }
   ],
   "source": [
    "wealth_index['1926':'1932'].plot()"
   ]
  },
  {
   "cell_type": "code",
   "execution_count": null,
   "id": "997d6e75",
   "metadata": {},
   "outputs": [
    {
     "data": {
      "text/plain": [
       "-0.8400375277943123"
      ]
     },
     "metadata": {},
     "output_type": "display_data"
    }
   ],
   "source": [
    "drawdown.min()"
   ]
  },
  {
   "cell_type": "code",
   "execution_count": null,
   "id": "e10cdfe5",
   "metadata": {},
   "outputs": [
    {
     "data": {
      "text/plain": [
       "-0.5280945042309304"
      ]
     },
     "metadata": {},
     "output_type": "display_data"
    }
   ],
   "source": [
    "# Computing the maximum drawdown since 1975\n",
    "\n",
    "drawdown['1975':].min()"
   ]
  },
  {
   "cell_type": "code",
   "execution_count": null,
   "id": "fae1ae55",
   "metadata": {},
   "outputs": [
    {
     "data": {
      "text/plain": [
       "Period('2009-02', 'M')"
      ]
     },
     "metadata": {},
     "output_type": "display_data"
    }
   ],
   "source": [
    "# If we want to locate when that min happened, we use:\n",
    "\n",
    "drawdown['1975':].idxmin()"
   ]
  },
  {
   "cell_type": "code",
   "execution_count": null,
   "id": "3f578da8",
   "metadata": {},
   "outputs": [
    {
     "data": {
      "text/plain": [
       "Period('1932-05', 'M')"
      ]
     },
     "metadata": {},
     "output_type": "display_data"
    }
   ],
   "source": [
    "drawdown.idxmin()"
   ]
  },
  {
   "cell_type": "markdown",
   "id": "3af6fd58",
   "metadata": {},
   "source": [
    "**Creating a Drawdown Function**\n",
    "\n",
    "Redoing this analysis for SmallCap would be tedious, since we would need to re-enter all these commands at the prompt. Instead, let's create our first function that will form the first tool in our financial toolkit.\n",
    "\n",
    "The function will take as input, a timeseries of returns, and return a timeseries as a DataFrame that contains the wealth index, the previous peaks and the drawdowns as a percent."
   ]
  },
  {
   "cell_type": "code",
   "execution_count": null,
   "id": "4c3cc33a",
   "metadata": {},
   "outputs": [],
   "source": [
    "def drawdown(return_series: pd.Series) -> pd.DataFrame :\n",
    "    '''\n",
    "    Takes a time series of asset returns\n",
    "    Computes and returns a DataFrame that contains:\n",
    "    the wealth index\n",
    "    the previous peaks\n",
    "    percent drawdowns \n",
    "    '''\n",
    "\n",
    "    wealth_index = 1000 * (1 + return_series).cumprod()\n",
    "    previous_peaks = wealth_index.cummax()\n",
    "    drawdowns = (wealth_index - previous_peaks) / previous_peaks \n",
    "\n",
    "    return pd.DataFrame({\n",
    "        'Wealth' : wealth_index,\n",
    "        'Peaks' : previous_peaks,\n",
    "        'Drawdown' : drawdowns\n",
    "    })\n"
   ]
  },
  {
   "cell_type": "code",
   "execution_count": null,
   "id": "30de6165",
   "metadata": {},
   "outputs": [
    {
     "data": {
      "text/html": [
       "<div>\n",
       "<style scoped>\n",
       "    .dataframe tbody tr th:only-of-type {\n",
       "        vertical-align: middle;\n",
       "    }\n",
       "\n",
       "    .dataframe tbody tr th {\n",
       "        vertical-align: top;\n",
       "    }\n",
       "\n",
       "    .dataframe thead th {\n",
       "        text-align: right;\n",
       "    }\n",
       "</style>\n",
       "<table border=\"1\" class=\"dataframe\">\n",
       "  <thead>\n",
       "    <tr style=\"text-align: right;\">\n",
       "      <th></th>\n",
       "      <th>Wealth</th>\n",
       "      <th>Peaks</th>\n",
       "      <th>Drawdown</th>\n",
       "    </tr>\n",
       "  </thead>\n",
       "  <tbody>\n",
       "    <tr>\n",
       "      <th>1926-07</th>\n",
       "      <td>1032.900000</td>\n",
       "      <td>1032.900000</td>\n",
       "      <td>0.0000</td>\n",
       "    </tr>\n",
       "    <tr>\n",
       "      <th>1926-08</th>\n",
       "      <td>1071.117300</td>\n",
       "      <td>1071.117300</td>\n",
       "      <td>0.0000</td>\n",
       "    </tr>\n",
       "    <tr>\n",
       "      <th>1926-09</th>\n",
       "      <td>1078.293786</td>\n",
       "      <td>1078.293786</td>\n",
       "      <td>0.0000</td>\n",
       "    </tr>\n",
       "    <tr>\n",
       "      <th>1926-10</th>\n",
       "      <td>1052.091247</td>\n",
       "      <td>1078.293786</td>\n",
       "      <td>-0.0243</td>\n",
       "    </tr>\n",
       "    <tr>\n",
       "      <th>1926-11</th>\n",
       "      <td>1080.497711</td>\n",
       "      <td>1080.497711</td>\n",
       "      <td>0.0000</td>\n",
       "    </tr>\n",
       "  </tbody>\n",
       "</table>\n",
       "</div>"
      ],
      "text/plain": [
       "              Wealth        Peaks  Drawdown\n",
       "1926-07  1032.900000  1032.900000    0.0000\n",
       "1926-08  1071.117300  1071.117300    0.0000\n",
       "1926-09  1078.293786  1078.293786    0.0000\n",
       "1926-10  1052.091247  1078.293786   -0.0243\n",
       "1926-11  1080.497711  1080.497711    0.0000"
      ]
     },
     "metadata": {},
     "output_type": "display_data"
    }
   ],
   "source": [
    "drawdown(rets['LargeCap']).head()"
   ]
  },
  {
   "cell_type": "code",
   "execution_count": null,
   "id": "1f4dc529",
   "metadata": {},
   "outputs": [
    {
     "data": {
      "text/html": [
       "<div>\n",
       "<style scoped>\n",
       "    .dataframe tbody tr th:only-of-type {\n",
       "        vertical-align: middle;\n",
       "    }\n",
       "\n",
       "    .dataframe tbody tr th {\n",
       "        vertical-align: top;\n",
       "    }\n",
       "\n",
       "    .dataframe thead th {\n",
       "        text-align: right;\n",
       "    }\n",
       "</style>\n",
       "<table border=\"1\" class=\"dataframe\">\n",
       "  <thead>\n",
       "    <tr style=\"text-align: right;\">\n",
       "      <th></th>\n",
       "      <th>Wealth</th>\n",
       "      <th>Peaks</th>\n",
       "    </tr>\n",
       "  </thead>\n",
       "  <tbody>\n",
       "    <tr>\n",
       "      <th>1926-07</th>\n",
       "      <td>1032.900000</td>\n",
       "      <td>1032.900000</td>\n",
       "    </tr>\n",
       "    <tr>\n",
       "      <th>1926-08</th>\n",
       "      <td>1071.117300</td>\n",
       "      <td>1071.117300</td>\n",
       "    </tr>\n",
       "    <tr>\n",
       "      <th>1926-09</th>\n",
       "      <td>1078.293786</td>\n",
       "      <td>1078.293786</td>\n",
       "    </tr>\n",
       "    <tr>\n",
       "      <th>1926-10</th>\n",
       "      <td>1052.091247</td>\n",
       "      <td>1078.293786</td>\n",
       "    </tr>\n",
       "    <tr>\n",
       "      <th>1926-11</th>\n",
       "      <td>1080.497711</td>\n",
       "      <td>1080.497711</td>\n",
       "    </tr>\n",
       "  </tbody>\n",
       "</table>\n",
       "</div>"
      ],
      "text/plain": [
       "              Wealth        Peaks\n",
       "1926-07  1032.900000  1032.900000\n",
       "1926-08  1071.117300  1071.117300\n",
       "1926-09  1078.293786  1078.293786\n",
       "1926-10  1052.091247  1078.293786\n",
       "1926-11  1080.497711  1080.497711"
      ]
     },
     "metadata": {},
     "output_type": "display_data"
    }
   ],
   "source": [
    "drawdown(rets['LargeCap'])[['Wealth', 'Peaks']].head()"
   ]
  },
  {
   "cell_type": "code",
   "execution_count": null,
   "id": "ee43e594",
   "metadata": {},
   "outputs": [
    {
     "data": {
      "text/plain": [
       "<Axes: >"
      ]
     },
     "metadata": {},
     "output_type": "display_data"
    },
    {
     "data": {
      "image/png": "[encoded data removed]",
      "text/plain": [
       "<Figure size 640x480 with 1 Axes>"
      ]
     },
     "metadata": {},
     "output_type": "display_data"
    }
   ],
   "source": [
    "drawdown(rets['LargeCap'])[['Wealth', 'Peaks']].plot()"
   ]
  },
  {
   "cell_type": "code",
   "execution_count": null,
   "id": "aa9773db",
   "metadata": {},
   "outputs": [
    {
     "data": {
      "text/plain": [
       "<Axes: >"
      ]
     },
     "metadata": {},
     "output_type": "display_data"
    },
    {
     "data": {
      "image/png": "[encoded data removed]",
      "text/plain": [
       "<Figure size 640x480 with 1 Axes>"
      ]
     },
     "metadata": {},
     "output_type": "display_data"
    }
   ],
   "source": [
    "drawdown(rets[:'1950']['LargeCap'])[['Wealth', 'Peaks']].plot()"
   ]
  },
  {
   "cell_type": "code",
   "execution_count": null,
   "id": "d5ee62cc",
   "metadata": {},
   "outputs": [
    {
     "data": {
      "text/plain": [
       "-0.8400375277943123"
      ]
     },
     "metadata": {},
     "output_type": "display_data"
    }
   ],
   "source": [
    "drawdown(rets['LargeCap'])['Drawdown'].min()"
   ]
  },
  {
   "cell_type": "code",
   "execution_count": null,
   "id": "4f7f259a",
   "metadata": {},
   "outputs": [
    {
     "data": {
      "text/plain": [
       "Period('1932-05', 'M')"
      ]
     },
     "metadata": {},
     "output_type": "display_data"
    }
   ],
   "source": [
    "drawdown(rets['LargeCap'])['Drawdown'].idxmin()"
   ]
  },
  {
   "cell_type": "code",
   "execution_count": null,
   "id": "b3216bb7",
   "metadata": {},
   "outputs": [
    {
     "data": {
      "text/plain": [
       "-0.8330007793945303"
      ]
     },
     "metadata": {},
     "output_type": "display_data"
    }
   ],
   "source": [
    "drawdown(rets['SmallCap'])['Drawdown'].min()"
   ]
  },
  {
   "cell_type": "code",
   "execution_count": null,
   "id": "ccd004e4",
   "metadata": {},
   "outputs": [
    {
     "data": {
      "text/plain": [
       "Period('1932-05', 'M')"
      ]
     },
     "metadata": {},
     "output_type": "display_data"
    }
   ],
   "source": [
    "drawdown(rets['SmallCap'])['Drawdown'].idxmin()"
   ]
  },
  {
   "cell_type": "code",
   "execution_count": null,
   "id": "794f4d56",
   "metadata": {},
   "outputs": [
    {
     "data": {
      "text/plain": [
       "-0.5280945042309303"
      ]
     },
     "metadata": {},
     "output_type": "display_data"
    }
   ],
   "source": [
    "drawdown(rets['1975':]['LargeCap'])['Drawdown'].min()"
   ]
  },
  {
   "cell_type": "code",
   "execution_count": null,
   "id": "ded526dd",
   "metadata": {},
   "outputs": [
    {
     "data": {
      "text/plain": [
       "Period('2009-02', 'M')"
      ]
     },
     "metadata": {},
     "output_type": "display_data"
    }
   ],
   "source": [
    "drawdown(rets['1975':]['LargeCap'])['Drawdown'].idxmin()"
   ]
  },
  {
   "cell_type": "code",
   "execution_count": null,
   "id": "4802705a",
   "metadata": {},
   "outputs": [
    {
     "data": {
      "text/plain": [
       "-0.6312068077252386"
      ]
     },
     "metadata": {},
     "output_type": "display_data"
    }
   ],
   "source": [
    "drawdown(rets['1975':]['SmallCap'])['Drawdown'].min()"
   ]
  },
  {
   "cell_type": "code",
   "execution_count": null,
   "id": "4dfd07fc",
   "metadata": {},
   "outputs": [
    {
     "data": {
      "text/plain": [
       "Period('2009-02', 'M')"
      ]
     },
     "metadata": {},
     "output_type": "display_data"
    }
   ],
   "source": [
    "drawdown(rets['1975':]['SmallCap'])['Drawdown'].idxmin()"
   ]
  }
 ],
 "metadata": {
  "kernelspec": {
   "display_name": ".venv (3.13.5)",
   "language": "python",
   "name": "python3"
  },
  "language_info": {
   "codemirror_mode": {
    "name": "ipython",
    "version": 3
   },
   "file_extension": ".py",
   "mimetype": "text/x-python",
   "name": "python",
   "nbconvert_exporter": "python",
   "pygments_lexer": "ipython3",
   "version": "3.13.5"
  }
 },
 "nbformat": 4,
 "nbformat_minor": 5
}
