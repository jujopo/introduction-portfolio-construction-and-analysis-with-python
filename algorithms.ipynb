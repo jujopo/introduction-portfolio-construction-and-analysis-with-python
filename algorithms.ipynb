{
 "cells": [
  {
   "cell_type": "markdown",
   "metadata": {},
   "source": [
    "# Algorithms"
   ]
  },
  {
   "cell_type": "code",
   "execution_count": 1,
   "metadata": {},
   "outputs": [],
   "source": [
    "import numpy as np\n",
    "import pandas as pd"
   ]
  },
  {
   "attachments": {},
   "cell_type": "markdown",
   "metadata": {},
   "source": [
    "Informally, an algorithm is any well-defined computational procedure that takes some value, or set of values, as input and produces some value, or set of values, as output. An algorithm is thus a sequence of computational steps that transform the input into the output."
   ]
  },
  {
   "attachments": {},
   "cell_type": "markdown",
   "metadata": {},
   "source": [
    "In general, an **instance** of a problem consists of the input (satisfying whatever constraints are imposed in the problem statement) needed to compute a solution to the problem.\n",
    "\n",
    "An algorithm for a computational problem is correct if, for every problem instance provided as input, it halts - finishes its computing in finite time - and outputs the correct solution to the problem instance."
   ]
  },
  {
   "attachments": {},
   "cell_type": "markdown",
   "metadata": {},
   "source": [
    "### **Example 1:** Subarray of Maximum Sum"
   ]
  },
  {
   "attachments": {},
   "cell_type": "markdown",
   "metadata": {},
   "source": [
    "**Instance:** An array $A$ of length $n$\n",
    "\n",
    "**Question:** Determine indices $s$, $t$ with $1 ≤ s ≤ t ≤ n$ such that\n",
    "\n",
    "$$ \\sum_{i=s}^t A[i] $$\n",
    "\n",
    "is maximum"
   ]
  },
  {
   "attachments": {},
   "cell_type": "markdown",
   "metadata": {},
   "source": [
    "**Solution 1:** Zero thinking.\n",
    "\n",
    "For all pairs $s \\leq t$, sum the subarray $A[s...t]$ and determine the maximum\n",
    "\n"
   ]
  },
  {
   "cell_type": "code",
   "execution_count": 2,
   "metadata": {},
   "outputs": [],
   "source": [
    "def FindMaxSumSubarray1(A):\n",
    "    n = len(A)\n",
    "    maxSum = float('-inf')\n",
    "\n",
    "    for s in range(n):\n",
    "        for t in range(n+1):\n",
    "            Sum = 0\n",
    "            for i in range(s, t): # Find sum of subarray A[s...t]\n",
    "                Sum = Sum + A[i]\n",
    "            if Sum > maxSum:\n",
    "                maxSum = Sum\n",
    "                s_0 = s\n",
    "                t_0 = t\n",
    "    \n",
    "    return (maxSum, s_0, t_0)\n",
    "\n"
   ]
  },
  {
   "attachments": {},
   "cell_type": "markdown",
   "metadata": {},
   "source": [
    "**1. Majority**\n",
    "\n",
    "An array $A$ of $n$ numbers has the majority property if there is a number $x$ that appears repeated at least $ \\lfloor{n/2}\\rfloor + 1$ (more than half) times in $A$, and then we say that $x$ is the majority element in $A$.\n",
    "\n",
    "The goal is to design an algorithm to determine the majority element of an input array $A$ if it exists, with a running time as fast as possible."
   ]
  },
  {
   "cell_type": "code",
   "execution_count": 10,
   "metadata": {},
   "outputs": [
    {
     "data": {
      "text/plain": [
       "[2, 3, 4, 3, 4, 3, 4, 3, 3, 3, 3]"
      ]
     },
     "execution_count": 10,
     "metadata": {},
     "output_type": "execute_result"
    }
   ],
   "source": [
    "A = [1, 2, 3, 4, 2, 1, 2, 1, 1, 1, 1]\n",
    "\n",
    "n = len(A)\n",
    "\n",
    "lst = []\n",
    "for i in A:\n",
    "    if A[i] not in lst:\n",
    "        lst.append(A[i])\n",
    "    else:\n",
    "        lst.append(A[i]+1)\n",
    "    \n",
    "    \n",
    "\n",
    "lst"
   ]
  }
 ],
 "metadata": {
  "kernelspec": {
   "display_name": "Python 3",
   "language": "python",
   "name": "python3"
  },
  "language_info": {
   "codemirror_mode": {
    "name": "ipython",
    "version": 3
   },
   "file_extension": ".py",
   "mimetype": "text/x-python",
   "name": "python",
   "nbconvert_exporter": "python",
   "pygments_lexer": "ipython3",
   "version": "3.10.6"
  },
  "orig_nbformat": 4,
  "vscode": {
   "interpreter": {
    "hash": "b8e7d0c874f02a80d2183e171507829b1bab5d148a8aa44a242facee7c80c3ce"
   }
  }
 },
 "nbformat": 4,
 "nbformat_minor": 2
}
